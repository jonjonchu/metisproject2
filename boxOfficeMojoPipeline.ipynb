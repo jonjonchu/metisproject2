{
 "cells": [
  {
   "cell_type": "markdown",
   "metadata": {},
   "source": [
    "# BoxOfficeMojo Pipeline"
   ]
  },
  {
   "cell_type": "code",
   "execution_count": 1,
   "metadata": {},
   "outputs": [],
   "source": [
    "import pandas as pd\n",
    "import boxOfficeMojoMethods as mojoMethods \n",
    "import datetime\n",
    "import os"
   ]
  },
  {
   "cell_type": "code",
   "execution_count": 2,
   "metadata": {
    "collapsed": true
   },
   "outputs": [
    {
     "name": "stdout",
     "output_type": "stream",
     "text": [
      "Help on module boxOfficeMojoMethods:\n",
      "\n",
      "NAME\n",
      "    boxOfficeMojoMethods - Jonathan L Chu, for Metis Data Science, 7 April 2020\n",
      "\n",
      "DESCRIPTION\n",
      "    Methods for scraping and downloading movie data from\n",
      "    www.boxofficemojo.com. Actual pipline can be found in the\n",
      "    accompanying boxOfficeMojoPipeline.py file.\n",
      "\n",
      "FUNCTIONS\n",
      "    get_dataframe_from_year(year, num_releases=-1)\n",
      "        Method to retrieve movie data from one year of\n",
      "        www.boxofficemojo.com/year/\n",
      "        \n",
      "        Number of releases defaults to all [0:-1]\n",
      "        \n",
      "        Note that the execution time is equal to \n",
      "        2 * len(releases in the year) + 1 seconds\n",
      "        \n",
      "        Returns pandas dataframe\n",
      "    \n",
      "    get_movie_info_from_title(url)\n",
      "        Parse the following data from a boxofficemojo.com Title url: \n",
      "        ['Movie_Title','Domestic_Distributor','Domestic_Total_Gross',\n",
      "        'Runtime','Rating','Release_Date','Budget', 'Cast1','Cast2','Cast3','Cast4']\n",
      "        \n",
      "        Input: boxofficemojo.com url like:\n",
      "        'https://www.boxofficemojo.com/title/tt0848228/credits/?ref_=bo_tt_tab'\n",
      "        Needs to have 'credits/?ref_=bo_tt_tab' in url after title id\n",
      "        \n",
      "        Returns [{}] ready for appending to a pandas DataFrame\n",
      "        \n",
      "        Sample output: \n",
      "        [{'Movie_Title': 'Sonic the Hedgehog',\n",
      "         'Domestic_Distributor': 'Paramount Pictures',\n",
      "         'Domestic_Total_Gross': 146066470,\n",
      "         'Runtime': 99,\n",
      "         'Rating': 'PG',\n",
      "         'Release_Date': datetime.datetime(2020, 2, 12, 0, 0),\n",
      "         'Budget': 85000000,\n",
      "         'Cast1': 'Ben Schwartz',\n",
      "         'Cast2': 'James Marsden',\n",
      "         'Cast3': 'Jim Carrey',\n",
      "         'Cast4': 'Tika Sumpter',\n",
      "         'Director': 'Jeff Fowler',\n",
      "         'Writer': 'Patrick Casey',\n",
      "         'Producer': 'Toby Asher',\n",
      "         'Cinematographer': 'Stephen F. Windon'}\n",
      "        ]\n",
      "    \n",
      "    get_movie_value(soup, field_name)\n",
      "        Grab a value from Box Office Mojo HTML\n",
      "        \n",
      "        Takes a string attribute of a movie on the page and returns the string in\n",
      "        the next sibling object (the value for that attribute) or None if nothing is found.\n",
      "    \n",
      "    get_release_urls_from_year(year_url, number=-1)\n",
      "        Takes a URL for a particular year on boxofficemojo.com \n",
      "        i.e. https://www.boxofficemojo.com/year/2020/?ref_=bo_yl_table_1\n",
      "        \n",
      "        Returns a list of URLs suffixes of all releases from that year\n",
      "        N.B.: please prepend 'www.boxofficemojo.com' to all returned URLs\n",
      "        \n",
      "        Number of releases defaults to all [0:-1]\n",
      "        \n",
      "        Sample output: \n",
      "        ['/release/rl1182631425/?ref_=bo_yld_table_1',\n",
      "         '/release/rl2969994753/?ref_=bo_yld_table_2',\n",
      "         '/release/rl4244997633/?ref_=bo_yld_table_3',\n",
      "         '/release/rl755467777/?ref_=bo_yld_table_4',\n",
      "         ...\n",
      "        ]\n",
      "    \n",
      "    get_title_url_from_release(release_url)\n",
      "        Takes a URL for a particular release on boxofficemojo.com \n",
      "        i.e. https://www.boxofficemojo.com/release/rl4244997633/\n",
      "        \n",
      "        Returns the URL suffix for the title associated with the release_url\n",
      "        N.B.: please prepend 'www.boxofficemojo.com' to all returned URLs\n",
      "        \n",
      "        Sample output: '/title/tt3794354/'\n",
      "    \n",
      "    money_to_int(moneystring)\n",
      "    \n",
      "    runtime_to_minutes(runtimestring)\n",
      "    \n",
      "    to_date(datestring)\n",
      "\n",
      "FILE\n",
      "    /Users/kibbles/Documents/Metis/metisproject2/boxOfficeMojoMethods.py\n",
      "\n",
      "\n"
     ]
    }
   ],
   "source": [
    "help(mojoMethods)"
   ]
  },
  {
   "cell_type": "markdown",
   "metadata": {},
   "source": [
    "## Define range of years"
   ]
  },
  {
   "cell_type": "code",
   "execution_count": 3,
   "metadata": {},
   "outputs": [],
   "source": [
    "info = []\n",
    "years = range(2013,1990,-1)"
   ]
  },
  {
   "cell_type": "markdown",
   "metadata": {},
   "source": [
    "## Run the pipeline using a for loop"
   ]
  },
  {
   "cell_type": "code",
   "execution_count": null,
   "metadata": {
    "scrolled": true
   },
   "outputs": [
    {
     "name": "stdout",
     "output_type": "stream",
     "text": [
      "200   https://www.boxofficemojo.com/year/2013\n",
      "200   https://www.boxofficemojo.com/release/rl1532659201/?ref_=bo_yld_table_1\n",
      "200   https://www.boxofficemojo.com/title/tt1300854/credits/?ref=bo_tt_tab\n",
      "dataframe shape:  (1, 15)\n",
      "200   https://www.boxofficemojo.com/release/rl2638775809/?ref_=bo_yld_table_2\n",
      "200   https://www.boxofficemojo.com/title/tt1951264/credits/?ref=bo_tt_tab\n",
      "dataframe shape:  (2, 15)\n",
      "200   https://www.boxofficemojo.com/release/rl105874945/?ref_=bo_yld_table_3\n",
      "200   https://www.boxofficemojo.com/title/tt1690953/credits/?ref=bo_tt_tab\n",
      "dataframe shape:  (3, 15)\n",
      "200   https://www.boxofficemojo.com/release/rl4034037249/?ref_=bo_yld_table_4\n",
      "200   https://www.boxofficemojo.com/title/tt0770828/credits/?ref=bo_tt_tab\n",
      "dataframe shape:  (4, 15)\n",
      "200   https://www.boxofficemojo.com/release/rl1919256065/?ref_=bo_yld_table_5\n",
      "200   https://www.boxofficemojo.com/title/tt1453405/credits/?ref=bo_tt_tab\n",
      "dataframe shape:  (5, 15)\n",
      "200   https://www.boxofficemojo.com/release/rl357926401/?ref_=bo_yld_table_6\n",
      "200   https://www.boxofficemojo.com/title/tt2294629/credits/?ref=bo_tt_tab\n",
      "dataframe shape:  (6, 15)\n",
      "200   https://www.boxofficemojo.com/release/rl89622017/?ref_=bo_yld_table_7\n",
      "200   https://www.boxofficemojo.com/title/tt1454468/credits/?ref=bo_tt_tab\n",
      "dataframe shape:  (7, 15)\n",
      "200   https://www.boxofficemojo.com/release/rl1028883969/?ref_=bo_yld_table_8\n",
      "200   https://www.boxofficemojo.com/title/tt1905041/credits/?ref=bo_tt_tab\n",
      "dataframe shape:  (8, 15)\n",
      "200   https://www.boxofficemojo.com/release/rl1567196673/?ref_=bo_yld_table_9\n",
      "200   https://www.boxofficemojo.com/title/tt1623205/credits/?ref=bo_tt_tab\n",
      "dataframe shape:  (9, 15)\n",
      "200   https://www.boxofficemojo.com/release/rl2893252097/?ref_=bo_yld_table_10\n",
      "200   https://www.boxofficemojo.com/title/tt1408101/credits/?ref=bo_tt_tab\n",
      "dataframe shape:  (10, 15)\n",
      "200   https://www.boxofficemojo.com/release/rl3111421441/?ref_=bo_yld_table_11\n",
      "200   https://www.boxofficemojo.com/title/tt1981115/credits/?ref=bo_tt_tab\n",
      "dataframe shape:  (11, 15)\n",
      "200   https://www.boxofficemojo.com/release/rl2038072833/?ref_=bo_yld_table_12\n",
      "200   https://www.boxofficemojo.com/title/tt0816711/credits/?ref=bo_tt_tab\n",
      "dataframe shape:  (12, 15)\n",
      "200   https://www.boxofficemojo.com/release/rl2337900033/?ref_=bo_yld_table_13\n",
      "200   https://www.boxofficemojo.com/title/tt1170358/credits/?ref=bo_tt_tab\n",
      "dataframe shape:  (13, 15)\n",
      "200   https://www.boxofficemojo.com/release/rl3192751617/?ref_=bo_yld_table_14\n",
      "200   https://www.boxofficemojo.com/title/tt0481499/credits/?ref=bo_tt_tab\n",
      "dataframe shape:  (14, 15)\n",
      "200   https://www.boxofficemojo.com/release/rl2185856513/?ref_=bo_yld_table_15\n",
      "200   https://www.boxofficemojo.com/title/tt2404463/credits/?ref=bo_tt_tab\n",
      "dataframe shape:  (15, 15)\n",
      "200   https://www.boxofficemojo.com/release/rl2558035457/?ref_=bo_yld_table_16\n",
      "200   https://www.boxofficemojo.com/title/tt1723121/credits/?ref=bo_tt_tab\n",
      "dataframe shape:  (16, 15)\n",
      "200   https://www.boxofficemojo.com/release/rl2706736641/?ref_=bo_yld_table_17\n",
      "200   https://www.boxofficemojo.com/title/tt1343092/credits/?ref=bo_tt_tab\n",
      "dataframe shape:  (17, 15)\n",
      "200   https://www.boxofficemojo.com/release/rl3830089217/?ref_=bo_yld_table_18\n",
      "200   https://www.boxofficemojo.com/title/tt1457767/credits/?ref=bo_tt_tab\n",
      "dataframe shape:  (18, 15)\n",
      "200   https://www.boxofficemojo.com/release/rl777750017/?ref_=bo_yld_table_19\n",
      "200   https://www.boxofficemojo.com/title/tt2024432/credits/?ref=bo_tt_tab\n",
      "dataframe shape:  (19, 15)\n",
      "200   https://www.boxofficemojo.com/release/rl2589427201/?ref_=bo_yld_table_20\n",
      "200   https://www.boxofficemojo.com/title/tt2191701/credits/?ref=bo_tt_tab\n",
      "dataframe shape:  (20, 15)\n",
      "200   https://www.boxofficemojo.com/release/rl3246097921/?ref_=bo_yld_table_21\n",
      "200   https://www.boxofficemojo.com/title/tt1430132/credits/?ref=bo_tt_tab\n",
      "dataframe shape:  (21, 15)\n",
      "200   https://www.boxofficemojo.com/release/rl810845697/?ref_=bo_yld_table_22\n",
      "200   https://www.boxofficemojo.com/title/tt1583421/credits/?ref=bo_tt_tab\n",
      "dataframe shape:  (22, 15)\n",
      "200   https://www.boxofficemojo.com/release/rl3597108737/?ref_=bo_yld_table_23\n",
      "200   https://www.boxofficemojo.com/title/tt1670345/credits/?ref=bo_tt_tab\n",
      "dataframe shape:  (23, 15)\n",
      "200   https://www.boxofficemojo.com/release/rl55215617/?ref_=bo_yld_table_24\n",
      "200   https://www.boxofficemojo.com/title/tt1985966/credits/?ref=bo_tt_tab\n",
      "dataframe shape:  (24, 15)\n",
      "200   https://www.boxofficemojo.com/release/rl3712583169/?ref_=bo_yld_table_25\n",
      "200   https://www.boxofficemojo.com/title/tt1327773/credits/?ref=bo_tt_tab\n",
      "dataframe shape:  (25, 15)\n",
      "200   https://www.boxofficemojo.com/release/rl659981825/?ref_=bo_yld_table_26\n",
      "200   https://www.boxofficemojo.com/title/tt1951261/credits/?ref=bo_tt_tab\n",
      "dataframe shape:  (26, 15)\n",
      "200   https://www.boxofficemojo.com/release/rl3495921153/?ref_=bo_yld_table_27\n",
      "200   https://www.boxofficemojo.com/title/tt0848537/credits/?ref=bo_tt_tab\n",
      "dataframe shape:  (27, 15)\n",
      "200   https://www.boxofficemojo.com/release/rl1883801089/?ref_=bo_yld_table_28\n",
      "200   https://www.boxofficemojo.com/title/tt1535109/credits/?ref=bo_tt_tab\n",
      "dataframe shape:  (28, 15)\n",
      "200   https://www.boxofficemojo.com/release/rl1332839937/?ref_=bo_yld_table_29\n"
     ]
    }
   ],
   "source": [
    "for year in years:\n",
    "    df = pd.DataFrame()\n",
    "    \n",
    "    start = datetime.datetime.now()\n",
    "    df = mojoMethods.get_dataframe_from_year(year) #,num_releases=5)\n",
    "\n",
    "    df.to_pickle(path=('./data/mojo_'+str(year)+'_movies.pkl'))\n",
    "    \n",
    "    info.append([year, td, df.shape])\n",
    "    \n",
    "    end = datetime.datetime.now()\n",
    "    td = end - start\n",
    "    print('Elapsed time: ',td)"
   ]
  },
  {
   "cell_type": "markdown",
   "metadata": {},
   "source": [
    "## Inform the user that the program is finished"
   ]
  },
  {
   "cell_type": "code",
   "execution_count": null,
   "metadata": {},
   "outputs": [],
   "source": [
    "os.system('say \"your program has finished\"')\n"
   ]
  },
  {
   "cell_type": "code",
   "execution_count": null,
   "metadata": {},
   "outputs": [],
   "source": [
    "print(info)"
   ]
  }
 ],
 "metadata": {
  "kernelspec": {
   "display_name": "Python [conda env:metis] *",
   "language": "python",
   "name": "conda-env-metis-py"
  },
  "language_info": {
   "codemirror_mode": {
    "name": "ipython",
    "version": 3
   },
   "file_extension": ".py",
   "mimetype": "text/x-python",
   "name": "python",
   "nbconvert_exporter": "python",
   "pygments_lexer": "ipython3",
   "version": "3.7.4"
  },
  "toc": {
   "base_numbering": 1,
   "nav_menu": {},
   "number_sections": true,
   "sideBar": true,
   "skip_h1_title": false,
   "title_cell": "Table of Contents",
   "title_sidebar": "Contents",
   "toc_cell": false,
   "toc_position": {},
   "toc_section_display": true,
   "toc_window_display": false
  }
 },
 "nbformat": 4,
 "nbformat_minor": 4
}
