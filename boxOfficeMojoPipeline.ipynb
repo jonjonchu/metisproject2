{
 "cells": [
  {
   "cell_type": "markdown",
   "metadata": {},
   "source": [
    "# BoxOfficeMojo Pipeline"
   ]
  },
  {
   "cell_type": "code",
   "execution_count": 1,
   "metadata": {},
   "outputs": [],
   "source": [
    "import pandas as pd\n",
    "import boxOfficeMojoMethods as mojoMethods \n",
    "import datetime"
   ]
  },
  {
   "cell_type": "code",
   "execution_count": 2,
   "metadata": {
    "collapsed": true
   },
   "outputs": [
    {
     "name": "stdout",
     "output_type": "stream",
     "text": [
      "Help on module boxOfficeMojoMethods:\n",
      "\n",
      "NAME\n",
      "    boxOfficeMojoMethods - Jonathan L Chu, for Metis Data Science, 7 April 2020\n",
      "\n",
      "DESCRIPTION\n",
      "    Methods for scraping and downloading movie data from\n",
      "    www.boxofficemojo.com. Actual pipline can be found in the\n",
      "    accompanying boxOfficeMojoPipeline.py file.\n",
      "\n",
      "FUNCTIONS\n",
      "    get_dataframe_from_year(year, num_releases=-1)\n",
      "        Method to retrieve movie data from one year of\n",
      "        www.boxofficemojo.com/year/\n",
      "        \n",
      "        Number of releases defaults to all [0:-1]\n",
      "        \n",
      "        Note that the execution time is equal to \n",
      "        2 * len(releases in the year) + 1 seconds\n",
      "        \n",
      "        Returns pandas dataframe\n",
      "    \n",
      "    get_movie_info_from_title(url)\n",
      "        Parse the following data from a boxofficemojo.com Title url: \n",
      "        ['Movie_Title','Domestic_Distributor','Domestic_Total_Gross',\n",
      "        'Runtime','Rating','Release_Date','Budget', 'Cast1','Cast2','Cast3','Cast4']\n",
      "        \n",
      "        Input: boxofficemojo.com url like:\n",
      "        'https://www.boxofficemojo.com/title/tt0848228/credits/?ref_=bo_tt_tab'\n",
      "        Needs to have 'credits/?ref_=bo_tt_tab' in url after title id\n",
      "        \n",
      "        Returns [{}] ready for appending to a pandas DataFrame\n",
      "        \n",
      "        Sample output: \n",
      "        [{'Movie_Title': 'Sonic the Hedgehog',\n",
      "         'Domestic_Distributor': 'Paramount Pictures',\n",
      "         'Domestic_Total_Gross': 146066470,\n",
      "         'Runtime': 99,\n",
      "         'Rating': 'PG',\n",
      "         'Release_Date': datetime.datetime(2020, 2, 12, 0, 0),\n",
      "         'Budget': 85000000,\n",
      "         'Cast1': 'Ben Schwartz',\n",
      "         'Cast2': 'James Marsden',\n",
      "         'Cast3': 'Jim Carrey',\n",
      "         'Cast4': 'Tika Sumpter'}\n",
      "        ]\n",
      "    \n",
      "    get_movie_value(soup, field_name)\n",
      "        Grab a value from Box Office Mojo HTML\n",
      "        \n",
      "        Takes a string attribute of a movie on the page and returns the string in\n",
      "        the next sibling object (the value for that attribute) or None if nothing is found.\n",
      "    \n",
      "    get_release_urls_from_year(year_url, number=-1)\n",
      "        Takes a URL for a particular year on boxofficemojo.com \n",
      "        i.e. https://www.boxofficemojo.com/year/2020/?ref_=bo_yl_table_1\n",
      "        \n",
      "        Returns a list of URLs suffixes of all releases from that year\n",
      "        N.B.: please prepend 'www.boxofficemojo.com' to all returned URLs\n",
      "        \n",
      "        Number of releases defaults to all [0:-1]\n",
      "        \n",
      "        Sample output: \n",
      "        ['/release/rl1182631425/?ref_=bo_yld_table_1',\n",
      "         '/release/rl2969994753/?ref_=bo_yld_table_2',\n",
      "         '/release/rl4244997633/?ref_=bo_yld_table_3',\n",
      "         '/release/rl755467777/?ref_=bo_yld_table_4',\n",
      "         ...\n",
      "        ]\n",
      "    \n",
      "    get_title_url_from_release(release_url)\n",
      "        Takes a URL for a particular release on boxofficemojo.com \n",
      "        i.e. https://www.boxofficemojo.com/release/rl4244997633/\n",
      "        \n",
      "        Returns the URL suffix for the title associated with the release_url\n",
      "        N.B.: please prepend 'www.boxofficemojo.com' to all returned URLs\n",
      "        \n",
      "        Sample output: '/title/tt3794354/'\n",
      "    \n",
      "    money_to_int(moneystring)\n",
      "    \n",
      "    runtime_to_minutes(runtimestring)\n",
      "    \n",
      "    to_date(datestring)\n",
      "\n",
      "FILE\n",
      "    /Users/kibbles/Documents/Metis/metisproject2/boxOfficeMojoMethods.py\n",
      "\n",
      "\n"
     ]
    }
   ],
   "source": [
    "help(mojoMethods)"
   ]
  },
  {
   "cell_type": "code",
   "execution_count": 3,
   "metadata": {},
   "outputs": [],
   "source": [
    "df = pd.DataFrame()\n",
    "year = 2020"
   ]
  },
  {
   "cell_type": "code",
   "execution_count": 4,
   "metadata": {},
   "outputs": [
    {
     "name": "stdout",
     "output_type": "stream",
     "text": [
      "200   https://www.boxofficemojo.com/year/2020\n",
      "200   https://www.boxofficemojo.com/release/rl1182631425/?ref_=bo_yld_table_1\n",
      "200   https://www.boxofficemojo.com/title/tt1502397/credits/?ref=bo_tt_tab\n",
      "dataframe shape:  (1, 11)\n",
      "200   https://www.boxofficemojo.com/release/rl2969994753/?ref_=bo_yld_table_2\n",
      "200   https://www.boxofficemojo.com/title/tt8579674/credits/?ref=bo_tt_tab\n",
      "dataframe shape:  (2, 11)\n",
      "200   https://www.boxofficemojo.com/release/rl4244997633/?ref_=bo_yld_table_3\n",
      "200   https://www.boxofficemojo.com/title/tt3794354/credits/?ref=bo_tt_tab\n",
      "dataframe shape:  (3, 11)\n",
      "200   https://www.boxofficemojo.com/release/rl755467777/?ref_=bo_yld_table_4\n",
      "200   https://www.boxofficemojo.com/title/tt7975244/credits/?ref=bo_tt_tab\n",
      "dataframe shape:  (4, 11)\n",
      "200   https://www.boxofficemojo.com/release/rl3305145857/?ref_=bo_yld_table_5\n",
      "200   https://www.boxofficemojo.com/title/tt2527338/credits/?ref=bo_tt_tab\n",
      "dataframe shape:  (5, 11)\n",
      "200   https://www.boxofficemojo.com/release/rl3640886785/?ref_=bo_yld_table_6\n",
      "200   https://www.boxofficemojo.com/title/tt7713068/credits/?ref=bo_tt_tab\n",
      "dataframe shape:  (6, 11)\n",
      "200   https://www.boxofficemojo.com/release/rl2164295169/?ref_=bo_yld_table_7\n",
      "200   https://www.boxofficemojo.com/title/tt6673612/credits/?ref=bo_tt_tab\n",
      "dataframe shape:  (7, 11)\n",
      "200   https://www.boxofficemojo.com/release/rl218596865/?ref_=bo_yld_table_8\n",
      "200   https://www.boxofficemojo.com/title/tt3281548/credits/?ref=bo_tt_tab\n",
      "dataframe shape:  (8, 11)\n",
      "200   https://www.boxofficemojo.com/release/rl50628097/?ref_=bo_yld_table_9\n",
      "200   https://www.boxofficemojo.com/title/tt1051906/credits/?ref=bo_tt_tab\n",
      "dataframe shape:  (9, 11)\n",
      "200   https://www.boxofficemojo.com/release/rl2533524993/?ref_=bo_yld_table_10\n",
      "200   https://www.boxofficemojo.com/title/tt7504726/credits/?ref=bo_tt_tab\n",
      "dataframe shape:  (10, 11)\n",
      "200   https://www.boxofficemojo.com/release/rl3433267713/?ref_=bo_yld_table_11\n",
      "200   https://www.boxofficemojo.com/title/tt7146812/credits/?ref=bo_tt_tab\n",
      "dataframe shape:  (11, 11)\n",
      "200   https://www.boxofficemojo.com/release/rl3204875777/?ref_=bo_yld_table_12\n",
      "200   https://www.boxofficemojo.com/title/tt8946378/credits/?ref=bo_tt_tab\n",
      "dataframe shape:  (12, 11)\n",
      "200   https://www.boxofficemojo.com/release/rl2424210945/?ref_=bo_yld_table_13\n",
      "200   https://www.boxofficemojo.com/title/tt4520988/credits/?ref=bo_tt_tab\n",
      "dataframe shape:  (13, 11)\n",
      "200   https://www.boxofficemojo.com/release/rl1333691905/?ref_=bo_yld_table_14\n",
      "200   https://www.boxofficemojo.com/title/tt5814534/credits/?ref=bo_tt_tab\n",
      "dataframe shape:  (14, 11)\n",
      "200   https://www.boxofficemojo.com/release/rl3473442305/?ref_=bo_yld_table_15\n",
      "200   https://www.boxofficemojo.com/title/tt8367814/credits/?ref=bo_tt_tab\n",
      "dataframe shape:  (15, 11)\n",
      "200   https://www.boxofficemojo.com/release/rl419792385/?ref_=bo_yld_table_16\n",
      "200   https://www.boxofficemojo.com/title/tt4916630/credits/?ref=bo_tt_tab\n",
      "dataframe shape:  (16, 11)\n",
      "200   https://www.boxofficemojo.com/release/rl1258849793/?ref_=bo_yld_table_17\n",
      "200   https://www.boxofficemojo.com/title/tt6751668/credits/?ref=bo_tt_tab\n",
      "dataframe shape:  (17, 11)\n",
      "200   https://www.boxofficemojo.com/release/rl1611040257/?ref_=bo_yld_table_18\n",
      "200   https://www.boxofficemojo.com/title/tt0983946/credits/?ref=bo_tt_tab\n",
      "dataframe shape:  (18, 11)\n",
      "200   https://www.boxofficemojo.com/release/rl3825763841/?ref_=bo_yld_table_19\n",
      "200   https://www.boxofficemojo.com/title/tt5727208/credits/?ref=bo_tt_tab\n",
      "dataframe shape:  (19, 11)\n",
      "200   https://www.boxofficemojo.com/release/rl4278486529/?ref_=bo_yld_table_20\n",
      "200   https://www.boxofficemojo.com/title/tt7545266/credits/?ref=bo_tt_tab\n",
      "dataframe shape:  (20, 11)\n",
      "200   https://www.boxofficemojo.com/release/rl1745126913/?ref_=bo_yld_table_21\n",
      "200   https://www.boxofficemojo.com/title/tt3612126/credits/?ref=bo_tt_tab\n",
      "dataframe shape:  (21, 11)\n",
      "200   https://www.boxofficemojo.com/release/rl1655931393/?ref_=bo_yld_table_22\n",
      "200   https://www.boxofficemojo.com/title/tt7798646/credits/?ref=bo_tt_tab\n",
      "dataframe shape:  (22, 11)\n",
      "200   https://www.boxofficemojo.com/release/rl302548481/?ref_=bo_yld_table_23\n",
      "200   https://www.boxofficemojo.com/title/tt5774060/credits/?ref=bo_tt_tab\n",
      "dataframe shape:  (23, 11)\n",
      "200   https://www.boxofficemojo.com/release/rl3020195329/?ref_=bo_yld_table_24\n",
      "200   https://www.boxofficemojo.com/title/tt7510346/credits/?ref=bo_tt_tab\n",
      "dataframe shape:  (24, 11)\n",
      "200   https://www.boxofficemojo.com/release/rl3842541057/?ref_=bo_yld_table_25\n"
     ]
    },
    {
     "ename": "OSError",
     "evalue": "Could not find a suitable TLS CA certificate bundle, invalid path: /Users/kibbles/anaconda3/envs/metis/lib/python3.7/site-packages/certifi/cacert.pem",
     "output_type": "error",
     "traceback": [
      "\u001b[0;31m---------------------------------------------------------------------------\u001b[0m",
      "\u001b[0;31mOSError\u001b[0m                                   Traceback (most recent call last)",
      "\u001b[0;32m<ipython-input-4-2656bd7d268f>\u001b[0m in \u001b[0;36m<module>\u001b[0;34m\u001b[0m\n\u001b[0;32m----> 1\u001b[0;31m \u001b[0mdf\u001b[0m \u001b[0;34m=\u001b[0m \u001b[0mmojoMethods\u001b[0m\u001b[0;34m.\u001b[0m\u001b[0mget_dataframe_from_year\u001b[0m\u001b[0;34m(\u001b[0m\u001b[0myear\u001b[0m\u001b[0;34m,\u001b[0m \u001b[0mnum_releases\u001b[0m \u001b[0;34m=\u001b[0m \u001b[0;36m200\u001b[0m\u001b[0;34m)\u001b[0m\u001b[0;34m\u001b[0m\u001b[0;34m\u001b[0m\u001b[0m\n\u001b[0m",
      "\u001b[0;32m~/Documents/Metis/metisproject2/boxOfficeMojoMethods.py\u001b[0m in \u001b[0;36mget_dataframe_from_year\u001b[0;34m(year, num_releases)\u001b[0m\n\u001b[1;32m     47\u001b[0m             \u001b[0mtime\u001b[0m\u001b[0;34m.\u001b[0m\u001b[0msleep\u001b[0m\u001b[0;34m(\u001b[0m\u001b[0;36m1\u001b[0m\u001b[0;34m)\u001b[0m\u001b[0;34m\u001b[0m\u001b[0;34m\u001b[0m\u001b[0m\n\u001b[1;32m     48\u001b[0m             \u001b[0;31m# Obtain Movie data\u001b[0m\u001b[0;34m\u001b[0m\u001b[0;34m\u001b[0m\u001b[0;34m\u001b[0m\u001b[0m\n\u001b[0;32m---> 49\u001b[0;31m             \u001b[0mdata\u001b[0m \u001b[0;34m=\u001b[0m \u001b[0mget_movie_info_from_title\u001b[0m\u001b[0;34m(\u001b[0m\u001b[0mtitle_url\u001b[0m\u001b[0;34m)\u001b[0m\u001b[0;34m\u001b[0m\u001b[0;34m\u001b[0m\u001b[0m\n\u001b[0m\u001b[1;32m     50\u001b[0m             \u001b[0mdf\u001b[0m \u001b[0;34m=\u001b[0m \u001b[0mdf\u001b[0m\u001b[0;34m.\u001b[0m\u001b[0mappend\u001b[0m\u001b[0;34m(\u001b[0m\u001b[0mdata\u001b[0m\u001b[0;34m)\u001b[0m\u001b[0;34m\u001b[0m\u001b[0;34m\u001b[0m\u001b[0m\n\u001b[1;32m     51\u001b[0m             \u001b[0mprint\u001b[0m\u001b[0;34m(\u001b[0m\u001b[0;34m'dataframe shape: '\u001b[0m\u001b[0;34m,\u001b[0m \u001b[0mdf\u001b[0m\u001b[0;34m.\u001b[0m\u001b[0mshape\u001b[0m\u001b[0;34m)\u001b[0m\u001b[0;34m\u001b[0m\u001b[0;34m\u001b[0m\u001b[0m\n",
      "\u001b[0;32m~/Documents/Metis/metisproject2/boxOfficeMojoMethods.py\u001b[0m in \u001b[0;36mget_movie_info_from_title\u001b[0;34m(url)\u001b[0m\n\u001b[1;32m    146\u001b[0m     \u001b[0mmovie_data\u001b[0m \u001b[0;34m=\u001b[0m \u001b[0;34m[\u001b[0m\u001b[0;34m]\u001b[0m\u001b[0;34m\u001b[0m\u001b[0;34m\u001b[0m\u001b[0m\n\u001b[1;32m    147\u001b[0m \u001b[0;34m\u001b[0m\u001b[0m\n\u001b[0;32m--> 148\u001b[0;31m     \u001b[0mresponse\u001b[0m \u001b[0;34m=\u001b[0m \u001b[0mrequests\u001b[0m\u001b[0;34m.\u001b[0m\u001b[0mget\u001b[0m\u001b[0;34m(\u001b[0m\u001b[0murl\u001b[0m\u001b[0;34m)\u001b[0m\u001b[0;34m\u001b[0m\u001b[0;34m\u001b[0m\u001b[0m\n\u001b[0m\u001b[1;32m    149\u001b[0m     \u001b[0mprint\u001b[0m\u001b[0;34m(\u001b[0m\u001b[0mresponse\u001b[0m\u001b[0;34m.\u001b[0m\u001b[0mstatus_code\u001b[0m\u001b[0;34m,\u001b[0m \u001b[0;34m' '\u001b[0m\u001b[0;34m,\u001b[0m \u001b[0murl\u001b[0m\u001b[0;34m)\u001b[0m\u001b[0;34m\u001b[0m\u001b[0;34m\u001b[0m\u001b[0m\n\u001b[1;32m    150\u001b[0m     \u001b[0mpage\u001b[0m \u001b[0;34m=\u001b[0m \u001b[0mresponse\u001b[0m\u001b[0;34m.\u001b[0m\u001b[0mtext\u001b[0m\u001b[0;34m\u001b[0m\u001b[0;34m\u001b[0m\u001b[0m\n",
      "\u001b[0;32m~/anaconda3/envs/metis/lib/python3.7/site-packages/requests/api.py\u001b[0m in \u001b[0;36mget\u001b[0;34m(url, params, **kwargs)\u001b[0m\n\u001b[1;32m     74\u001b[0m \u001b[0;34m\u001b[0m\u001b[0m\n\u001b[1;32m     75\u001b[0m     \u001b[0mkwargs\u001b[0m\u001b[0;34m.\u001b[0m\u001b[0msetdefault\u001b[0m\u001b[0;34m(\u001b[0m\u001b[0;34m'allow_redirects'\u001b[0m\u001b[0;34m,\u001b[0m \u001b[0;32mTrue\u001b[0m\u001b[0;34m)\u001b[0m\u001b[0;34m\u001b[0m\u001b[0;34m\u001b[0m\u001b[0m\n\u001b[0;32m---> 76\u001b[0;31m     \u001b[0;32mreturn\u001b[0m \u001b[0mrequest\u001b[0m\u001b[0;34m(\u001b[0m\u001b[0;34m'get'\u001b[0m\u001b[0;34m,\u001b[0m \u001b[0murl\u001b[0m\u001b[0;34m,\u001b[0m \u001b[0mparams\u001b[0m\u001b[0;34m=\u001b[0m\u001b[0mparams\u001b[0m\u001b[0;34m,\u001b[0m \u001b[0;34m**\u001b[0m\u001b[0mkwargs\u001b[0m\u001b[0;34m)\u001b[0m\u001b[0;34m\u001b[0m\u001b[0;34m\u001b[0m\u001b[0m\n\u001b[0m\u001b[1;32m     77\u001b[0m \u001b[0;34m\u001b[0m\u001b[0m\n\u001b[1;32m     78\u001b[0m \u001b[0;34m\u001b[0m\u001b[0m\n",
      "\u001b[0;32m~/anaconda3/envs/metis/lib/python3.7/site-packages/requests/api.py\u001b[0m in \u001b[0;36mrequest\u001b[0;34m(method, url, **kwargs)\u001b[0m\n\u001b[1;32m     59\u001b[0m     \u001b[0;31m# cases, and look like a memory leak in others.\u001b[0m\u001b[0;34m\u001b[0m\u001b[0;34m\u001b[0m\u001b[0;34m\u001b[0m\u001b[0m\n\u001b[1;32m     60\u001b[0m     \u001b[0;32mwith\u001b[0m \u001b[0msessions\u001b[0m\u001b[0;34m.\u001b[0m\u001b[0mSession\u001b[0m\u001b[0;34m(\u001b[0m\u001b[0;34m)\u001b[0m \u001b[0;32mas\u001b[0m \u001b[0msession\u001b[0m\u001b[0;34m:\u001b[0m\u001b[0;34m\u001b[0m\u001b[0;34m\u001b[0m\u001b[0m\n\u001b[0;32m---> 61\u001b[0;31m         \u001b[0;32mreturn\u001b[0m \u001b[0msession\u001b[0m\u001b[0;34m.\u001b[0m\u001b[0mrequest\u001b[0m\u001b[0;34m(\u001b[0m\u001b[0mmethod\u001b[0m\u001b[0;34m=\u001b[0m\u001b[0mmethod\u001b[0m\u001b[0;34m,\u001b[0m \u001b[0murl\u001b[0m\u001b[0;34m=\u001b[0m\u001b[0murl\u001b[0m\u001b[0;34m,\u001b[0m \u001b[0;34m**\u001b[0m\u001b[0mkwargs\u001b[0m\u001b[0;34m)\u001b[0m\u001b[0;34m\u001b[0m\u001b[0;34m\u001b[0m\u001b[0m\n\u001b[0m\u001b[1;32m     62\u001b[0m \u001b[0;34m\u001b[0m\u001b[0m\n\u001b[1;32m     63\u001b[0m \u001b[0;34m\u001b[0m\u001b[0m\n",
      "\u001b[0;32m~/anaconda3/envs/metis/lib/python3.7/site-packages/requests/sessions.py\u001b[0m in \u001b[0;36mrequest\u001b[0;34m(self, method, url, params, data, headers, cookies, files, auth, timeout, allow_redirects, proxies, hooks, stream, verify, cert, json)\u001b[0m\n\u001b[1;32m    528\u001b[0m         }\n\u001b[1;32m    529\u001b[0m         \u001b[0msend_kwargs\u001b[0m\u001b[0;34m.\u001b[0m\u001b[0mupdate\u001b[0m\u001b[0;34m(\u001b[0m\u001b[0msettings\u001b[0m\u001b[0;34m)\u001b[0m\u001b[0;34m\u001b[0m\u001b[0;34m\u001b[0m\u001b[0m\n\u001b[0;32m--> 530\u001b[0;31m         \u001b[0mresp\u001b[0m \u001b[0;34m=\u001b[0m \u001b[0mself\u001b[0m\u001b[0;34m.\u001b[0m\u001b[0msend\u001b[0m\u001b[0;34m(\u001b[0m\u001b[0mprep\u001b[0m\u001b[0;34m,\u001b[0m \u001b[0;34m**\u001b[0m\u001b[0msend_kwargs\u001b[0m\u001b[0;34m)\u001b[0m\u001b[0;34m\u001b[0m\u001b[0;34m\u001b[0m\u001b[0m\n\u001b[0m\u001b[1;32m    531\u001b[0m \u001b[0;34m\u001b[0m\u001b[0m\n\u001b[1;32m    532\u001b[0m         \u001b[0;32mreturn\u001b[0m \u001b[0mresp\u001b[0m\u001b[0;34m\u001b[0m\u001b[0;34m\u001b[0m\u001b[0m\n",
      "\u001b[0;32m~/anaconda3/envs/metis/lib/python3.7/site-packages/requests/sessions.py\u001b[0m in \u001b[0;36msend\u001b[0;34m(self, request, **kwargs)\u001b[0m\n\u001b[1;32m    641\u001b[0m \u001b[0;34m\u001b[0m\u001b[0m\n\u001b[1;32m    642\u001b[0m         \u001b[0;31m# Send the request\u001b[0m\u001b[0;34m\u001b[0m\u001b[0;34m\u001b[0m\u001b[0;34m\u001b[0m\u001b[0m\n\u001b[0;32m--> 643\u001b[0;31m         \u001b[0mr\u001b[0m \u001b[0;34m=\u001b[0m \u001b[0madapter\u001b[0m\u001b[0;34m.\u001b[0m\u001b[0msend\u001b[0m\u001b[0;34m(\u001b[0m\u001b[0mrequest\u001b[0m\u001b[0;34m,\u001b[0m \u001b[0;34m**\u001b[0m\u001b[0mkwargs\u001b[0m\u001b[0;34m)\u001b[0m\u001b[0;34m\u001b[0m\u001b[0;34m\u001b[0m\u001b[0m\n\u001b[0m\u001b[1;32m    644\u001b[0m \u001b[0;34m\u001b[0m\u001b[0m\n\u001b[1;32m    645\u001b[0m         \u001b[0;31m# Total elapsed time of the request (approximately)\u001b[0m\u001b[0;34m\u001b[0m\u001b[0;34m\u001b[0m\u001b[0;34m\u001b[0m\u001b[0m\n",
      "\u001b[0;32m~/anaconda3/envs/metis/lib/python3.7/site-packages/requests/adapters.py\u001b[0m in \u001b[0;36msend\u001b[0;34m(self, request, stream, timeout, verify, cert, proxies)\u001b[0m\n\u001b[1;32m    414\u001b[0m             \u001b[0;32mraise\u001b[0m \u001b[0mInvalidURL\u001b[0m\u001b[0;34m(\u001b[0m\u001b[0me\u001b[0m\u001b[0;34m,\u001b[0m \u001b[0mrequest\u001b[0m\u001b[0;34m=\u001b[0m\u001b[0mrequest\u001b[0m\u001b[0;34m)\u001b[0m\u001b[0;34m\u001b[0m\u001b[0;34m\u001b[0m\u001b[0m\n\u001b[1;32m    415\u001b[0m \u001b[0;34m\u001b[0m\u001b[0m\n\u001b[0;32m--> 416\u001b[0;31m         \u001b[0mself\u001b[0m\u001b[0;34m.\u001b[0m\u001b[0mcert_verify\u001b[0m\u001b[0;34m(\u001b[0m\u001b[0mconn\u001b[0m\u001b[0;34m,\u001b[0m \u001b[0mrequest\u001b[0m\u001b[0;34m.\u001b[0m\u001b[0murl\u001b[0m\u001b[0;34m,\u001b[0m \u001b[0mverify\u001b[0m\u001b[0;34m,\u001b[0m \u001b[0mcert\u001b[0m\u001b[0;34m)\u001b[0m\u001b[0;34m\u001b[0m\u001b[0;34m\u001b[0m\u001b[0m\n\u001b[0m\u001b[1;32m    417\u001b[0m         \u001b[0murl\u001b[0m \u001b[0;34m=\u001b[0m \u001b[0mself\u001b[0m\u001b[0;34m.\u001b[0m\u001b[0mrequest_url\u001b[0m\u001b[0;34m(\u001b[0m\u001b[0mrequest\u001b[0m\u001b[0;34m,\u001b[0m \u001b[0mproxies\u001b[0m\u001b[0;34m)\u001b[0m\u001b[0;34m\u001b[0m\u001b[0;34m\u001b[0m\u001b[0m\n\u001b[1;32m    418\u001b[0m         \u001b[0mself\u001b[0m\u001b[0;34m.\u001b[0m\u001b[0madd_headers\u001b[0m\u001b[0;34m(\u001b[0m\u001b[0mrequest\u001b[0m\u001b[0;34m,\u001b[0m \u001b[0mstream\u001b[0m\u001b[0;34m=\u001b[0m\u001b[0mstream\u001b[0m\u001b[0;34m,\u001b[0m \u001b[0mtimeout\u001b[0m\u001b[0;34m=\u001b[0m\u001b[0mtimeout\u001b[0m\u001b[0;34m,\u001b[0m \u001b[0mverify\u001b[0m\u001b[0;34m=\u001b[0m\u001b[0mverify\u001b[0m\u001b[0;34m,\u001b[0m \u001b[0mcert\u001b[0m\u001b[0;34m=\u001b[0m\u001b[0mcert\u001b[0m\u001b[0;34m,\u001b[0m \u001b[0mproxies\u001b[0m\u001b[0;34m=\u001b[0m\u001b[0mproxies\u001b[0m\u001b[0;34m)\u001b[0m\u001b[0;34m\u001b[0m\u001b[0;34m\u001b[0m\u001b[0m\n",
      "\u001b[0;32m~/anaconda3/envs/metis/lib/python3.7/site-packages/requests/adapters.py\u001b[0m in \u001b[0;36mcert_verify\u001b[0;34m(self, conn, url, verify, cert)\u001b[0m\n\u001b[1;32m    226\u001b[0m             \u001b[0;32mif\u001b[0m \u001b[0;32mnot\u001b[0m \u001b[0mcert_loc\u001b[0m \u001b[0;32mor\u001b[0m \u001b[0;32mnot\u001b[0m \u001b[0mos\u001b[0m\u001b[0;34m.\u001b[0m\u001b[0mpath\u001b[0m\u001b[0;34m.\u001b[0m\u001b[0mexists\u001b[0m\u001b[0;34m(\u001b[0m\u001b[0mcert_loc\u001b[0m\u001b[0;34m)\u001b[0m\u001b[0;34m:\u001b[0m\u001b[0;34m\u001b[0m\u001b[0;34m\u001b[0m\u001b[0m\n\u001b[1;32m    227\u001b[0m                 raise IOError(\"Could not find a suitable TLS CA certificate bundle, \"\n\u001b[0;32m--> 228\u001b[0;31m                               \"invalid path: {}\".format(cert_loc))\n\u001b[0m\u001b[1;32m    229\u001b[0m \u001b[0;34m\u001b[0m\u001b[0m\n\u001b[1;32m    230\u001b[0m             \u001b[0mconn\u001b[0m\u001b[0;34m.\u001b[0m\u001b[0mcert_reqs\u001b[0m \u001b[0;34m=\u001b[0m \u001b[0;34m'CERT_REQUIRED'\u001b[0m\u001b[0;34m\u001b[0m\u001b[0;34m\u001b[0m\u001b[0m\n",
      "\u001b[0;31mOSError\u001b[0m: Could not find a suitable TLS CA certificate bundle, invalid path: /Users/kibbles/anaconda3/envs/metis/lib/python3.7/site-packages/certifi/cacert.pem"
     ]
    }
   ],
   "source": [
    "df = mojoMethods.get_dataframe_from_year(year, num_releases = 200)"
   ]
  },
  {
   "cell_type": "code",
   "execution_count": null,
   "metadata": {},
   "outputs": [],
   "source": [
    "df.head()"
   ]
  },
  {
   "cell_type": "code",
   "execution_count": null,
   "metadata": {},
   "outputs": [],
   "source": [
    "df.to_pickle(path=('./data/mojo_'+str(year)+'_movies.pkl'))"
   ]
  },
  {
   "cell_type": "code",
   "execution_count": null,
   "metadata": {},
   "outputs": [],
   "source": []
  }
 ],
 "metadata": {
  "kernelspec": {
   "display_name": "Python [conda env:metis] *",
   "language": "python",
   "name": "conda-env-metis-py"
  },
  "language_info": {
   "codemirror_mode": {
    "name": "ipython",
    "version": 3
   },
   "file_extension": ".py",
   "mimetype": "text/x-python",
   "name": "python",
   "nbconvert_exporter": "python",
   "pygments_lexer": "ipython3",
   "version": "3.7.4"
  }
 },
 "nbformat": 4,
 "nbformat_minor": 4
}
