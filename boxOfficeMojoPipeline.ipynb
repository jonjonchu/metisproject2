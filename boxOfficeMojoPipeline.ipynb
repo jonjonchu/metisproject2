{
 "cells": [
  {
   "cell_type": "markdown",
   "metadata": {},
   "source": [
    "# BoxOfficeMojo Pipeline"
   ]
  },
  {
   "cell_type": "code",
   "execution_count": 2,
   "metadata": {},
   "outputs": [],
   "source": [
    "import pandas as pd\n",
    "import boxOfficeMojoMethods as mojoMethods \n",
    "import datetime"
   ]
  },
  {
   "cell_type": "code",
   "execution_count": null,
   "metadata": {},
   "outputs": [],
   "source": [
    "help(mojoMethods)"
   ]
  },
  {
   "cell_type": "code",
   "execution_count": 3,
   "metadata": {},
   "outputs": [],
   "source": [
    "df = pd.DataFrame()\n",
    "year = 2020"
   ]
  },
  {
   "cell_type": "code",
   "execution_count": null,
   "metadata": {},
   "outputs": [
    {
     "name": "stdout",
     "output_type": "stream",
     "text": [
      "200   https://www.boxofficemojo.com/year/2020\n",
      "200   https://www.boxofficemojo.com/release/rl1182631425/?ref_=bo_yld_table_1\n",
      "200   https://www.boxofficemojo.com/title/tt1502397/credits/?ref=bo_tt_tab\n",
      "dataframe shape:  (1, 15)\n",
      "200   https://www.boxofficemojo.com/release/rl2969994753/?ref_=bo_yld_table_2\n",
      "200   https://www.boxofficemojo.com/title/tt8579674/credits/?ref=bo_tt_tab\n",
      "dataframe shape:  (2, 15)\n",
      "200   https://www.boxofficemojo.com/release/rl4244997633/?ref_=bo_yld_table_3\n",
      "200   https://www.boxofficemojo.com/title/tt3794354/credits/?ref=bo_tt_tab\n",
      "dataframe shape:  (3, 15)\n",
      "200   https://www.boxofficemojo.com/release/rl755467777/?ref_=bo_yld_table_4\n",
      "200   https://www.boxofficemojo.com/title/tt7975244/credits/?ref=bo_tt_tab\n",
      "dataframe shape:  (4, 15)\n",
      "200   https://www.boxofficemojo.com/release/rl3305145857/?ref_=bo_yld_table_5\n",
      "200   https://www.boxofficemojo.com/title/tt2527338/credits/?ref=bo_tt_tab\n",
      "dataframe shape:  (5, 15)\n",
      "200   https://www.boxofficemojo.com/release/rl3640886785/?ref_=bo_yld_table_6\n",
      "200   https://www.boxofficemojo.com/title/tt7713068/credits/?ref=bo_tt_tab\n",
      "dataframe shape:  (6, 15)\n",
      "200   https://www.boxofficemojo.com/release/rl2164295169/?ref_=bo_yld_table_7\n",
      "200   https://www.boxofficemojo.com/title/tt6673612/credits/?ref=bo_tt_tab\n",
      "dataframe shape:  (7, 15)\n",
      "200   https://www.boxofficemojo.com/release/rl218596865/?ref_=bo_yld_table_8\n",
      "200   https://www.boxofficemojo.com/title/tt3281548/credits/?ref=bo_tt_tab\n",
      "dataframe shape:  (8, 15)\n",
      "200   https://www.boxofficemojo.com/release/rl50628097/?ref_=bo_yld_table_9\n",
      "200   https://www.boxofficemojo.com/title/tt1051906/credits/?ref=bo_tt_tab\n",
      "dataframe shape:  (9, 15)\n",
      "200   https://www.boxofficemojo.com/release/rl2533524993/?ref_=bo_yld_table_10\n",
      "200   https://www.boxofficemojo.com/title/tt7504726/credits/?ref=bo_tt_tab\n",
      "dataframe shape:  (10, 15)\n",
      "200   https://www.boxofficemojo.com/release/rl3433267713/?ref_=bo_yld_table_11\n",
      "200   https://www.boxofficemojo.com/title/tt7146812/credits/?ref=bo_tt_tab\n",
      "dataframe shape:  (11, 15)\n",
      "200   https://www.boxofficemojo.com/release/rl3204875777/?ref_=bo_yld_table_12\n",
      "200   https://www.boxofficemojo.com/title/tt8946378/credits/?ref=bo_tt_tab\n",
      "dataframe shape:  (12, 15)\n",
      "200   https://www.boxofficemojo.com/release/rl2424210945/?ref_=bo_yld_table_13\n",
      "200   https://www.boxofficemojo.com/title/tt4520988/credits/?ref=bo_tt_tab\n",
      "dataframe shape:  (13, 15)\n",
      "200   https://www.boxofficemojo.com/release/rl1333691905/?ref_=bo_yld_table_14\n",
      "200   https://www.boxofficemojo.com/title/tt5814534/credits/?ref=bo_tt_tab\n",
      "dataframe shape:  (14, 15)\n",
      "200   https://www.boxofficemojo.com/release/rl3473442305/?ref_=bo_yld_table_15\n",
      "200   https://www.boxofficemojo.com/title/tt8367814/credits/?ref=bo_tt_tab\n",
      "dataframe shape:  (15, 15)\n",
      "200   https://www.boxofficemojo.com/release/rl419792385/?ref_=bo_yld_table_16\n",
      "200   https://www.boxofficemojo.com/title/tt4916630/credits/?ref=bo_tt_tab\n",
      "dataframe shape:  (16, 15)\n",
      "200   https://www.boxofficemojo.com/release/rl1258849793/?ref_=bo_yld_table_17\n",
      "200   https://www.boxofficemojo.com/title/tt6751668/credits/?ref=bo_tt_tab\n",
      "dataframe shape:  (17, 15)\n",
      "200   https://www.boxofficemojo.com/release/rl1611040257/?ref_=bo_yld_table_18\n",
      "200   https://www.boxofficemojo.com/title/tt0983946/credits/?ref=bo_tt_tab\n",
      "dataframe shape:  (18, 15)\n",
      "200   https://www.boxofficemojo.com/release/rl3825763841/?ref_=bo_yld_table_19\n",
      "200   https://www.boxofficemojo.com/title/tt5727208/credits/?ref=bo_tt_tab\n",
      "dataframe shape:  (19, 15)\n",
      "200   https://www.boxofficemojo.com/release/rl4278486529/?ref_=bo_yld_table_20\n",
      "200   https://www.boxofficemojo.com/title/tt7545266/credits/?ref=bo_tt_tab\n",
      "dataframe shape:  (20, 15)\n",
      "200   https://www.boxofficemojo.com/release/rl1745126913/?ref_=bo_yld_table_21\n"
     ]
    }
   ],
   "source": [
    "df = mojoMethods.get_dataframe_from_year(year) #,num_releases=5)"
   ]
  },
  {
   "cell_type": "code",
   "execution_count": null,
   "metadata": {},
   "outputs": [],
   "source": [
    "df.head()"
   ]
  },
  {
   "cell_type": "code",
   "execution_count": null,
   "metadata": {},
   "outputs": [],
   "source": [
    "df.to_pickle(path=('./data/mojo_'+str(year)+'_movies.pkl'))"
   ]
  },
  {
   "cell_type": "code",
   "execution_count": null,
   "metadata": {},
   "outputs": [],
   "source": []
  }
 ],
 "metadata": {
  "kernelspec": {
   "display_name": "Python [conda env:metis] *",
   "language": "python",
   "name": "conda-env-metis-py"
  },
  "language_info": {
   "codemirror_mode": {
    "name": "ipython",
    "version": 3
   },
   "file_extension": ".py",
   "mimetype": "text/x-python",
   "name": "python",
   "nbconvert_exporter": "python",
   "pygments_lexer": "ipython3",
   "version": "3.7.4"
  },
  "toc": {
   "base_numbering": 1,
   "nav_menu": {},
   "number_sections": true,
   "sideBar": true,
   "skip_h1_title": false,
   "title_cell": "Table of Contents",
   "title_sidebar": "Contents",
   "toc_cell": false,
   "toc_position": {},
   "toc_section_display": true,
   "toc_window_display": false
  }
 },
 "nbformat": 4,
 "nbformat_minor": 4
}
