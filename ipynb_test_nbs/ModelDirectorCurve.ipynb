{
 "cells": [
  {
   "cell_type": "markdown",
   "metadata": {},
   "source": [
    "# Modelling the director curve"
   ]
  },
  {
   "cell_type": "code",
   "execution_count": 14,
   "metadata": {},
   "outputs": [
    {
     "name": "stdout",
     "output_type": "stream",
     "text": [
      "Populating the interactive namespace from numpy and matplotlib\n"
     ]
    },
    {
     "name": "stderr",
     "output_type": "stream",
     "text": [
      "/Users/kibbles/anaconda3/envs/metis/lib/python3.7/site-packages/IPython/core/magics/pylab.py:160: UserWarning: pylab import has clobbered these variables: ['exponential']\n",
      "`%matplotlib` prevents importing * from pylab and numpy\n",
      "  \"\\n`%matplotlib` prevents importing * from pylab and numpy\"\n"
     ]
    }
   ],
   "source": [
    "%pylab inline\n",
    "#% config InlineBackend.figure_format = 'svg'\n",
    "\n",
    "import pandas as pd\n",
    "import seaborn as sns\n",
    "sns.set()\n",
    "\n",
    "import scipy\n",
    "\n",
    "from sklearn.model_selection import train_test_split\n",
    "from sklearn.linear_model import LinearRegression#, Lasso, LassoCV, Ridge, RidgeCV\n",
    "from sklearn.metrics import r2_score\n",
    "\n",
    "import statsmodels.api as sm\n",
    "import statsmodels.formula.api as smf "
   ]
  },
  {
   "cell_type": "code",
   "execution_count": 6,
   "metadata": {
    "collapsed": true
   },
   "outputs": [
    {
     "data": {
      "text/html": [
       "<div>\n",
       "<style scoped>\n",
       "    .dataframe tbody tr th:only-of-type {\n",
       "        vertical-align: middle;\n",
       "    }\n",
       "\n",
       "    .dataframe tbody tr th {\n",
       "        vertical-align: top;\n",
       "    }\n",
       "\n",
       "    .dataframe thead th {\n",
       "        text-align: right;\n",
       "    }\n",
       "</style>\n",
       "<table border=\"1\" class=\"dataframe\">\n",
       "  <thead>\n",
       "    <tr style=\"text-align: right;\">\n",
       "      <th></th>\n",
       "      <th>Movie_Title</th>\n",
       "      <th>Domestic_Distributor</th>\n",
       "      <th>Domestic_Total_Gross</th>\n",
       "      <th>Runtime</th>\n",
       "      <th>Rating</th>\n",
       "      <th>Release_Date</th>\n",
       "      <th>Budget</th>\n",
       "      <th>Cast1</th>\n",
       "      <th>Cast2</th>\n",
       "      <th>Cast3</th>\n",
       "      <th>...</th>\n",
       "      <th>Writer</th>\n",
       "      <th>Producer</th>\n",
       "      <th>Cinematographer</th>\n",
       "      <th>Profit_percent</th>\n",
       "      <th>G</th>\n",
       "      <th>NC-17</th>\n",
       "      <th>Not Rated</th>\n",
       "      <th>PG</th>\n",
       "      <th>PG-13</th>\n",
       "      <th>R</th>\n",
       "    </tr>\n",
       "  </thead>\n",
       "  <tbody>\n",
       "    <tr>\n",
       "      <th>0</th>\n",
       "      <td>Inside the Rain</td>\n",
       "      <td>Sky Island Films</td>\n",
       "      <td>8140</td>\n",
       "      <td>90.0</td>\n",
       "      <td>NaN</td>\n",
       "      <td>2020-03-13</td>\n",
       "      <td>NaN</td>\n",
       "      <td>Rosie Perez</td>\n",
       "      <td>Eric Roberts</td>\n",
       "      <td>Aaron Fisher</td>\n",
       "      <td>...</td>\n",
       "      <td>Aaron Fisher</td>\n",
       "      <td>George LaVoo</td>\n",
       "      <td>Josh Fisher</td>\n",
       "      <td>NaN</td>\n",
       "      <td>0</td>\n",
       "      <td>0</td>\n",
       "      <td>0</td>\n",
       "      <td>0</td>\n",
       "      <td>0</td>\n",
       "      <td>0</td>\n",
       "    </tr>\n",
       "    <tr>\n",
       "      <th>1</th>\n",
       "      <td>The Hunt</td>\n",
       "      <td>Universal Pictures</td>\n",
       "      <td>5812500</td>\n",
       "      <td>90.0</td>\n",
       "      <td>R</td>\n",
       "      <td>2020-03-13</td>\n",
       "      <td>14000000.0</td>\n",
       "      <td>Betty Gilpin</td>\n",
       "      <td>Hilary Swank</td>\n",
       "      <td>Ike Barinholtz</td>\n",
       "      <td>...</td>\n",
       "      <td>Nick Cuse</td>\n",
       "      <td>Jason Blum</td>\n",
       "      <td>Darran Tiernan</td>\n",
       "      <td>-0.584821</td>\n",
       "      <td>0</td>\n",
       "      <td>0</td>\n",
       "      <td>0</td>\n",
       "      <td>0</td>\n",
       "      <td>0</td>\n",
       "      <td>1</td>\n",
       "    </tr>\n",
       "    <tr>\n",
       "      <th>2</th>\n",
       "      <td>Never Rarely Sometimes Always</td>\n",
       "      <td>Focus Features</td>\n",
       "      <td>16565</td>\n",
       "      <td>101.0</td>\n",
       "      <td>PG-13</td>\n",
       "      <td>2020-03-13</td>\n",
       "      <td>NaN</td>\n",
       "      <td>Eliazar Jimenez</td>\n",
       "      <td>David Buneta</td>\n",
       "      <td>Christian Clements</td>\n",
       "      <td>...</td>\n",
       "      <td>Eliza Hittman</td>\n",
       "      <td>Lia Buman</td>\n",
       "      <td>Hélène Louvart</td>\n",
       "      <td>NaN</td>\n",
       "      <td>0</td>\n",
       "      <td>0</td>\n",
       "      <td>0</td>\n",
       "      <td>0</td>\n",
       "      <td>1</td>\n",
       "      <td>0</td>\n",
       "    </tr>\n",
       "    <tr>\n",
       "      <th>3</th>\n",
       "      <td>Moondance</td>\n",
       "      <td></td>\n",
       "      <td>2371</td>\n",
       "      <td>97.0</td>\n",
       "      <td>NaN</td>\n",
       "      <td>2020-03-13</td>\n",
       "      <td>NaN</td>\n",
       "      <td>Adam Conover</td>\n",
       "      <td>Cooper Flannigan</td>\n",
       "      <td>Sam Jones</td>\n",
       "      <td>...</td>\n",
       "      <td>Cooper Flannigan</td>\n",
       "      <td>Chase Crawford</td>\n",
       "      <td>Greg Kraus</td>\n",
       "      <td>NaN</td>\n",
       "      <td>0</td>\n",
       "      <td>0</td>\n",
       "      <td>0</td>\n",
       "      <td>0</td>\n",
       "      <td>0</td>\n",
       "      <td>0</td>\n",
       "    </tr>\n",
       "    <tr>\n",
       "      <th>4</th>\n",
       "      <td>The Roads Not Taken</td>\n",
       "      <td>Bleecker Street Media</td>\n",
       "      <td>3518</td>\n",
       "      <td>85.0</td>\n",
       "      <td>R</td>\n",
       "      <td>2020-03-13</td>\n",
       "      <td>NaN</td>\n",
       "      <td>Javier Bardem</td>\n",
       "      <td>Elle Fanning</td>\n",
       "      <td>Salma Hayek</td>\n",
       "      <td>...</td>\n",
       "      <td>Sally Potter</td>\n",
       "      <td>Christopher Sheppard</td>\n",
       "      <td>Robbie Ryan</td>\n",
       "      <td>NaN</td>\n",
       "      <td>0</td>\n",
       "      <td>0</td>\n",
       "      <td>0</td>\n",
       "      <td>0</td>\n",
       "      <td>0</td>\n",
       "      <td>1</td>\n",
       "    </tr>\n",
       "    <tr>\n",
       "      <th>...</th>\n",
       "      <td>...</td>\n",
       "      <td>...</td>\n",
       "      <td>...</td>\n",
       "      <td>...</td>\n",
       "      <td>...</td>\n",
       "      <td>...</td>\n",
       "      <td>...</td>\n",
       "      <td>...</td>\n",
       "      <td>...</td>\n",
       "      <td>...</td>\n",
       "      <td>...</td>\n",
       "      <td>...</td>\n",
       "      <td>...</td>\n",
       "      <td>...</td>\n",
       "      <td>...</td>\n",
       "      <td>...</td>\n",
       "      <td>...</td>\n",
       "      <td>...</td>\n",
       "      <td>...</td>\n",
       "      <td>...</td>\n",
       "      <td>...</td>\n",
       "    </tr>\n",
       "    <tr>\n",
       "      <th>15968</th>\n",
       "      <td>Modern Times</td>\n",
       "      <td>United Artists</td>\n",
       "      <td>163577</td>\n",
       "      <td>87.0</td>\n",
       "      <td>NaN</td>\n",
       "      <td>1936-02-05</td>\n",
       "      <td>NaN</td>\n",
       "      <td>Charles Chaplin</td>\n",
       "      <td>Paulette Goddard</td>\n",
       "      <td>Henry Bergman</td>\n",
       "      <td>...</td>\n",
       "      <td>Charles Chaplin</td>\n",
       "      <td>NaN</td>\n",
       "      <td>Ira H. Morgan</td>\n",
       "      <td>NaN</td>\n",
       "      <td>0</td>\n",
       "      <td>0</td>\n",
       "      <td>0</td>\n",
       "      <td>0</td>\n",
       "      <td>0</td>\n",
       "      <td>0</td>\n",
       "    </tr>\n",
       "    <tr>\n",
       "      <th>15969</th>\n",
       "      <td>M</td>\n",
       "      <td>Foremco Pictures Corporation</td>\n",
       "      <td>35566</td>\n",
       "      <td>117.0</td>\n",
       "      <td>NaN</td>\n",
       "      <td>1933-03-31</td>\n",
       "      <td>NaN</td>\n",
       "      <td>Peter Lorre</td>\n",
       "      <td>Ellen Widmann</td>\n",
       "      <td>Inge Landgut</td>\n",
       "      <td>...</td>\n",
       "      <td>Thea von Harbou</td>\n",
       "      <td>NaN</td>\n",
       "      <td>Fritz Arno Wagner</td>\n",
       "      <td>NaN</td>\n",
       "      <td>0</td>\n",
       "      <td>0</td>\n",
       "      <td>0</td>\n",
       "      <td>0</td>\n",
       "      <td>0</td>\n",
       "      <td>0</td>\n",
       "    </tr>\n",
       "    <tr>\n",
       "      <th>15970</th>\n",
       "      <td>City Lights</td>\n",
       "      <td>United Artists</td>\n",
       "      <td>19181</td>\n",
       "      <td>87.0</td>\n",
       "      <td>G</td>\n",
       "      <td>1931-01-30</td>\n",
       "      <td>NaN</td>\n",
       "      <td>Charles Chaplin</td>\n",
       "      <td>Virginia Cherrill</td>\n",
       "      <td>Florence Lee</td>\n",
       "      <td>...</td>\n",
       "      <td>Charles Chaplin</td>\n",
       "      <td>NaN</td>\n",
       "      <td>Gordon Pollock</td>\n",
       "      <td>NaN</td>\n",
       "      <td>1</td>\n",
       "      <td>0</td>\n",
       "      <td>0</td>\n",
       "      <td>0</td>\n",
       "      <td>0</td>\n",
       "      <td>0</td>\n",
       "    </tr>\n",
       "    <tr>\n",
       "      <th>15971</th>\n",
       "      <td>Metropolis</td>\n",
       "      <td>Paramount Pictures</td>\n",
       "      <td>1236166</td>\n",
       "      <td>153.0</td>\n",
       "      <td>NaN</td>\n",
       "      <td>1927-05-06</td>\n",
       "      <td>NaN</td>\n",
       "      <td>Brigitte Helm</td>\n",
       "      <td>Alfred Abel</td>\n",
       "      <td>Gustav Fröhlich</td>\n",
       "      <td>...</td>\n",
       "      <td>Thea von Harbou</td>\n",
       "      <td>Erich Pommer</td>\n",
       "      <td>Karl Freund</td>\n",
       "      <td>NaN</td>\n",
       "      <td>0</td>\n",
       "      <td>0</td>\n",
       "      <td>0</td>\n",
       "      <td>0</td>\n",
       "      <td>0</td>\n",
       "      <td>0</td>\n",
       "    </tr>\n",
       "    <tr>\n",
       "      <th>15972</th>\n",
       "      <td>The Cabinet of Dr. Caligari</td>\n",
       "      <td>Goldwyn Distributing Company</td>\n",
       "      <td>8811</td>\n",
       "      <td>76.0</td>\n",
       "      <td>NaN</td>\n",
       "      <td>1921-03-19</td>\n",
       "      <td>NaN</td>\n",
       "      <td>Werner Krauss</td>\n",
       "      <td>Conrad Veidt</td>\n",
       "      <td>Friedrich Feher</td>\n",
       "      <td>...</td>\n",
       "      <td>Carl Mayer</td>\n",
       "      <td>NaN</td>\n",
       "      <td>Willy Hameister</td>\n",
       "      <td>NaN</td>\n",
       "      <td>0</td>\n",
       "      <td>0</td>\n",
       "      <td>0</td>\n",
       "      <td>0</td>\n",
       "      <td>0</td>\n",
       "      <td>0</td>\n",
       "    </tr>\n",
       "  </tbody>\n",
       "</table>\n",
       "<p>15973 rows × 22 columns</p>\n",
       "</div>"
      ],
      "text/plain": [
       "                         Movie_Title          Domestic_Distributor  \\\n",
       "0                    Inside the Rain              Sky Island Films   \n",
       "1                           The Hunt            Universal Pictures   \n",
       "2      Never Rarely Sometimes Always                Focus Features   \n",
       "3                          Moondance                                 \n",
       "4                The Roads Not Taken         Bleecker Street Media   \n",
       "...                              ...                           ...   \n",
       "15968                   Modern Times                United Artists   \n",
       "15969                              M  Foremco Pictures Corporation   \n",
       "15970                    City Lights                United Artists   \n",
       "15971                     Metropolis            Paramount Pictures   \n",
       "15972    The Cabinet of Dr. Caligari  Goldwyn Distributing Company   \n",
       "\n",
       "       Domestic_Total_Gross  Runtime Rating Release_Date      Budget  \\\n",
       "0                      8140     90.0    NaN   2020-03-13         NaN   \n",
       "1                   5812500     90.0      R   2020-03-13  14000000.0   \n",
       "2                     16565    101.0  PG-13   2020-03-13         NaN   \n",
       "3                      2371     97.0    NaN   2020-03-13         NaN   \n",
       "4                      3518     85.0      R   2020-03-13         NaN   \n",
       "...                     ...      ...    ...          ...         ...   \n",
       "15968                163577     87.0    NaN   1936-02-05         NaN   \n",
       "15969                 35566    117.0    NaN   1933-03-31         NaN   \n",
       "15970                 19181     87.0      G   1931-01-30         NaN   \n",
       "15971               1236166    153.0    NaN   1927-05-06         NaN   \n",
       "15972                  8811     76.0    NaN   1921-03-19         NaN   \n",
       "\n",
       "                 Cast1              Cast2               Cast3  ...  \\\n",
       "0          Rosie Perez       Eric Roberts        Aaron Fisher  ...   \n",
       "1         Betty Gilpin       Hilary Swank      Ike Barinholtz  ...   \n",
       "2      Eliazar Jimenez       David Buneta  Christian Clements  ...   \n",
       "3         Adam Conover   Cooper Flannigan           Sam Jones  ...   \n",
       "4        Javier Bardem       Elle Fanning         Salma Hayek  ...   \n",
       "...                ...                ...                 ...  ...   \n",
       "15968  Charles Chaplin   Paulette Goddard       Henry Bergman  ...   \n",
       "15969      Peter Lorre      Ellen Widmann        Inge Landgut  ...   \n",
       "15970  Charles Chaplin  Virginia Cherrill        Florence Lee  ...   \n",
       "15971    Brigitte Helm        Alfred Abel     Gustav Fröhlich  ...   \n",
       "15972    Werner Krauss       Conrad Veidt     Friedrich Feher  ...   \n",
       "\n",
       "                 Writer              Producer    Cinematographer  \\\n",
       "0          Aaron Fisher          George LaVoo        Josh Fisher   \n",
       "1             Nick Cuse            Jason Blum     Darran Tiernan   \n",
       "2         Eliza Hittman             Lia Buman     Hélène Louvart   \n",
       "3      Cooper Flannigan        Chase Crawford         Greg Kraus   \n",
       "4          Sally Potter  Christopher Sheppard        Robbie Ryan   \n",
       "...                 ...                   ...                ...   \n",
       "15968   Charles Chaplin                   NaN      Ira H. Morgan   \n",
       "15969   Thea von Harbou                   NaN  Fritz Arno Wagner   \n",
       "15970   Charles Chaplin                   NaN     Gordon Pollock   \n",
       "15971   Thea von Harbou          Erich Pommer        Karl Freund   \n",
       "15972        Carl Mayer                   NaN    Willy Hameister   \n",
       "\n",
       "      Profit_percent  G  NC-17  Not Rated  PG  PG-13  R  \n",
       "0                NaN  0      0          0   0      0  0  \n",
       "1          -0.584821  0      0          0   0      0  1  \n",
       "2                NaN  0      0          0   0      1  0  \n",
       "3                NaN  0      0          0   0      0  0  \n",
       "4                NaN  0      0          0   0      0  1  \n",
       "...              ... ..    ...        ...  ..    ... ..  \n",
       "15968            NaN  0      0          0   0      0  0  \n",
       "15969            NaN  0      0          0   0      0  0  \n",
       "15970            NaN  1      0          0   0      0  0  \n",
       "15971            NaN  0      0          0   0      0  0  \n",
       "15972            NaN  0      0          0   0      0  0  \n",
       "\n",
       "[15973 rows x 22 columns]"
      ]
     },
     "execution_count": 6,
     "metadata": {},
     "output_type": "execute_result"
    }
   ],
   "source": [
    "path=('./data/mojo_all_years_movies_cleaned.pkl')\n",
    "df = pd.read_pickle(path)\n",
    "df"
   ]
  },
  {
   "cell_type": "markdown",
   "metadata": {},
   "source": [
    "## Plot original"
   ]
  },
  {
   "cell_type": "code",
   "execution_count": 7,
   "metadata": {},
   "outputs": [
    {
     "data": {
      "text/plain": [
       "Text(0.5, 1.0, 'Highest Avg Gross: Directors 1980-2020')"
      ]
     },
     "execution_count": 7,
     "metadata": {},
     "output_type": "execute_result"
    },
    {
     "data": {
      "image/png": "[encoded data removed]",
      "text/plain": [
       "<Figure size 1152x288 with 1 Axes>"
      ]
     },
     "metadata": {
      "needs_background": "light"
     },
     "output_type": "display_data"
    }
   ],
   "source": [
    "d_gross_mean=(df.groupby(['Director'])['Domestic_Total_Gross']\n",
    "               .mean()\n",
    "               .reset_index()\n",
    "               .sort_values(by=['Domestic_Total_Gross'], ascending=False)\n",
    "            )\n",
    "#d_gross_mean['Domestic_Total_Gross'] = d_gross_mean['Domestic_Total_Gross'].apply(lambda x: np.log(x))\n",
    "#d_gross_mean\n",
    "plt.subplots(figsize=(16,4))\n",
    "plat = sns.scatterplot(data=d_gross_mean[:100],x=d_gross_mean[:100]['Director'],y=d_gross_mean[:100]['Domestic_Total_Gross']);\n",
    "#plut = sns.scatterplot(data=d_gross_mean[:100],x=d_gross_mean[:100]['Director'],y=d_gross_mean[:100]['Domestic_Total_Gross'].apply(lambda x: np.log(x)));\n",
    "plt.xticks(rotation=90); plt.title('Highest Avg Gross: Directors 1980-2020')"
   ]
  },
  {
   "cell_type": "markdown",
   "metadata": {
    "heading_collapsed": true
   },
   "source": [
    "## Try to fit exp decay with scipy curve_fit"
   ]
  },
  {
   "cell_type": "markdown",
   "metadata": {
    "heading_collapsed": true,
    "hidden": true
   },
   "source": [
    "### Data to fit "
   ]
  },
  {
   "cell_type": "code",
   "execution_count": 32,
   "metadata": {
    "hidden": true
   },
   "outputs": [],
   "source": [
    "d_gross_mean.reset_index().drop(columns=['index','Director'])\n",
    "x_array = d_gross_mean.reset_index().drop(columns=['index','Director']).index # x array\n",
    "y_array = d_gross_mean.reset_index().drop(columns=['index','Director'])['Domestic_Total_Gross']\n"
   ]
  },
  {
   "cell_type": "markdown",
   "metadata": {
    "heading_collapsed": true,
    "hidden": true
   },
   "source": [
    "### Function to fit (exp decay)"
   ]
  },
  {
   "cell_type": "code",
   "execution_count": 21,
   "metadata": {
    "hidden": true
   },
   "outputs": [],
   "source": [
    "def exponential(x, a, k, b):\n",
    "    return a*np.exp(x*k) + b"
   ]
  },
  {
   "cell_type": "code",
   "execution_count": 51,
   "metadata": {
    "hidden": true
   },
   "outputs": [],
   "source": [
    "params, covariance = scipy.optimize.curve_fit(exponential, x_array, y_array, p0=[100,-0.0005, 1000000])\n"
   ]
  },
  {
   "cell_type": "code",
   "execution_count": 49,
   "metadata": {
    "hidden": true
   },
   "outputs": [
    {
     "name": "stdout",
     "output_type": "stream",
     "text": [
      "[ 1.10339645e+01 -4.27161361e-02  1.00000002e+06]\n",
      "[[ 1.23050770e+14 -5.32254116e+11 -2.14872507e+10]\n",
      " [-5.32254116e+11  5.55740603e+09 -1.67924955e+09]\n",
      " [-2.14872507e+10 -1.67924955e+09  1.03325907e+11]]\n"
     ]
    }
   ],
   "source": [
    "print(params)\n",
    "print(covariance)"
   ]
  },
  {
   "cell_type": "markdown",
   "metadata": {
    "heading_collapsed": true,
    "hidden": true
   },
   "source": [
    "### plot resulting function alongside data"
   ]
  },
  {
   "cell_type": "code",
   "execution_count": 57,
   "metadata": {
    "hidden": true
   },
   "outputs": [
    {
     "data": {
      "image/png": "[encoded data removed]",
      "text/plain": [
       "<Figure size 1152x288 with 1 Axes>"
      ]
     },
     "metadata": {},
     "output_type": "display_data"
    }
   ],
   "source": [
    "plt.subplots(figsize=(16,4))\n",
    "sns.scatterplot(x=x_array[:100], y=exponential(x_array[:100],params[0],params[1],params[2]) );\n",
    "plat = sns.scatterplot(data=d_gross_mean[:100],x=d_gross_mean.reset_index().index[:100],y=d_gross_mean[:100]['Domestic_Total_Gross']);\n"
   ]
  },
  {
   "cell_type": "markdown",
   "metadata": {},
   "source": [
    "## Use sklearn model"
   ]
  },
  {
   "cell_type": "code",
   "execution_count": null,
   "metadata": {},
   "outputs": [],
   "source": []
  }
 ],
 "metadata": {
  "kernelspec": {
   "display_name": "Python [conda env:metis] *",
   "language": "python",
   "name": "conda-env-metis-py"
  },
  "language_info": {
   "codemirror_mode": {
    "name": "ipython",
    "version": 3
   },
   "file_extension": ".py",
   "mimetype": "text/x-python",
   "name": "python",
   "nbconvert_exporter": "python",
   "pygments_lexer": "ipython3",
   "version": "3.7.4"
  },
  "toc": {
   "base_numbering": 1,
   "nav_menu": {},
   "number_sections": true,
   "sideBar": true,
   "skip_h1_title": false,
   "title_cell": "Table of Contents",
   "title_sidebar": "Contents",
   "toc_cell": false,
   "toc_position": {},
   "toc_section_display": true,
   "toc_window_display": false
  }
 },
 "nbformat": 4,
 "nbformat_minor": 4
}
