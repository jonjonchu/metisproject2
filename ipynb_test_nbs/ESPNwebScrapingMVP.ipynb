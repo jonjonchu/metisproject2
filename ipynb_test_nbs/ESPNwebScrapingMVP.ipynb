{
 "cells": [
  {
   "cell_type": "markdown",
   "metadata": {},
   "source": [
    "# Web Scraping the ESPN Scrum data set online\n"
   ]
  },
  {
   "cell_type": "code",
   "execution_count": 10,
   "metadata": {},
   "outputs": [],
   "source": [
    "from bs4 import BeautifulSoup\n",
    "import requests"
   ]
  },
  {
   "cell_type": "code",
   "execution_count": null,
   "metadata": {},
   "outputs": [],
   "source": [
    "# player stats URL\n",
    "\n",
    "('http://stats.espnscrum.com/statsguru/rugby/stats/index.html?'\n",
    " +'class=1;'\n",
    " +'filter=advanced;'\n",
    " +'orderby=date;'\n",
    " +'size=100;'\n",
    " +'spanmax1=1+Apr+2020;'\n",
    " +'spanmin1=1+Jan+2000;'\n",
    " +'spanval1=span;\n",
    " +'team=5;' ####\n",
    " +'template=results;'\n",
    " +'type=player;' ###\n",
    " +'view=match')"
   ]
  },
  {
   "cell_type": "code",
   "execution_count": 7,
   "metadata": {},
   "outputs": [],
   "source": [
    "def getESPNScrumTeamUrl(page, start_date='1+Jan+2000', end_date='1+Apr+2020'):\n",
    "    '''\n",
    "    Function to get URL of espn scrum data. Note dates must be of format '(D)D+Mon+YYYY'\n",
    "    Returns URL where data resides as string\n",
    "    '''\n",
    "    \n",
    "    page = str(page)\n",
    "\n",
    "    url = ('http://stats.espnscrum.com/statsguru/rugby/stats/index.html?'\n",
    "            +'class=1;'\n",
    "           +'filter=advanced;'\n",
    "           +'orderby=date;'\n",
    "           +'page='+page+';'\n",
    "           +'size=100;'\n",
    "           +'spanmax1='+end_date+';'\n",
    "           +'spanmin1='+start_date+';'\n",
    "           +'spanval1=span;'\n",
    "           +'template=results;'\n",
    "           +'type=team;'\n",
    "           +'view=match')\n",
    "    # print(' '+url)\n",
    "    return url"
   ]
  },
  {
   "cell_type": "code",
   "execution_count": 8,
   "metadata": {
    "collapsed": true
   },
   "outputs": [
    {
     "data": {
      "text/plain": [
       "['http://stats.espnscrum.com/statsguru/rugby/stats/index.html?class=1;filter=advanced;orderby=date;page=1;size=100;spanmax1=1+Apr+2020;spanmin1=1+Jan+2000;spanval1=span;template=results;type=team;view=match',\n",
       " 'http://stats.espnscrum.com/statsguru/rugby/stats/index.html?class=1;filter=advanced;orderby=date;page=2;size=100;spanmax1=1+Apr+2020;spanmin1=1+Jan+2000;spanval1=span;template=results;type=team;view=match',\n",
       " 'http://stats.espnscrum.com/statsguru/rugby/stats/index.html?class=1;filter=advanced;orderby=date;page=3;size=100;spanmax1=1+Apr+2020;spanmin1=1+Jan+2000;spanval1=span;template=results;type=team;view=match',\n",
       " 'http://stats.espnscrum.com/statsguru/rugby/stats/index.html?class=1;filter=advanced;orderby=date;page=4;size=100;spanmax1=1+Apr+2020;spanmin1=1+Jan+2000;spanval1=span;template=results;type=team;view=match',\n",
       " 'http://stats.espnscrum.com/statsguru/rugby/stats/index.html?class=1;filter=advanced;orderby=date;page=5;size=100;spanmax1=1+Apr+2020;spanmin1=1+Jan+2000;spanval1=span;template=results;type=team;view=match',\n",
       " 'http://stats.espnscrum.com/statsguru/rugby/stats/index.html?class=1;filter=advanced;orderby=date;page=6;size=100;spanmax1=1+Apr+2020;spanmin1=1+Jan+2000;spanval1=span;template=results;type=team;view=match',\n",
       " 'http://stats.espnscrum.com/statsguru/rugby/stats/index.html?class=1;filter=advanced;orderby=date;page=7;size=100;spanmax1=1+Apr+2020;spanmin1=1+Jan+2000;spanval1=span;template=results;type=team;view=match',\n",
       " 'http://stats.espnscrum.com/statsguru/rugby/stats/index.html?class=1;filter=advanced;orderby=date;page=8;size=100;spanmax1=1+Apr+2020;spanmin1=1+Jan+2000;spanval1=span;template=results;type=team;view=match',\n",
       " 'http://stats.espnscrum.com/statsguru/rugby/stats/index.html?class=1;filter=advanced;orderby=date;page=9;size=100;spanmax1=1+Apr+2020;spanmin1=1+Jan+2000;spanval1=span;template=results;type=team;view=match',\n",
       " 'http://stats.espnscrum.com/statsguru/rugby/stats/index.html?class=1;filter=advanced;orderby=date;page=10;size=100;spanmax1=1+Apr+2020;spanmin1=1+Jan+2000;spanval1=span;template=results;type=team;view=match',\n",
       " 'http://stats.espnscrum.com/statsguru/rugby/stats/index.html?class=1;filter=advanced;orderby=date;page=11;size=100;spanmax1=1+Apr+2020;spanmin1=1+Jan+2000;spanval1=span;template=results;type=team;view=match',\n",
       " 'http://stats.espnscrum.com/statsguru/rugby/stats/index.html?class=1;filter=advanced;orderby=date;page=12;size=100;spanmax1=1+Apr+2020;spanmin1=1+Jan+2000;spanval1=span;template=results;type=team;view=match',\n",
       " 'http://stats.espnscrum.com/statsguru/rugby/stats/index.html?class=1;filter=advanced;orderby=date;page=13;size=100;spanmax1=1+Apr+2020;spanmin1=1+Jan+2000;spanval1=span;template=results;type=team;view=match',\n",
       " 'http://stats.espnscrum.com/statsguru/rugby/stats/index.html?class=1;filter=advanced;orderby=date;page=14;size=100;spanmax1=1+Apr+2020;spanmin1=1+Jan+2000;spanval1=span;template=results;type=team;view=match',\n",
       " 'http://stats.espnscrum.com/statsguru/rugby/stats/index.html?class=1;filter=advanced;orderby=date;page=15;size=100;spanmax1=1+Apr+2020;spanmin1=1+Jan+2000;spanval1=span;template=results;type=team;view=match',\n",
       " 'http://stats.espnscrum.com/statsguru/rugby/stats/index.html?class=1;filter=advanced;orderby=date;page=16;size=100;spanmax1=1+Apr+2020;spanmin1=1+Jan+2000;spanval1=span;template=results;type=team;view=match',\n",
       " 'http://stats.espnscrum.com/statsguru/rugby/stats/index.html?class=1;filter=advanced;orderby=date;page=17;size=100;spanmax1=1+Apr+2020;spanmin1=1+Jan+2000;spanval1=span;template=results;type=team;view=match',\n",
       " 'http://stats.espnscrum.com/statsguru/rugby/stats/index.html?class=1;filter=advanced;orderby=date;page=18;size=100;spanmax1=1+Apr+2020;spanmin1=1+Jan+2000;spanval1=span;template=results;type=team;view=match',\n",
       " 'http://stats.espnscrum.com/statsguru/rugby/stats/index.html?class=1;filter=advanced;orderby=date;page=19;size=100;spanmax1=1+Apr+2020;spanmin1=1+Jan+2000;spanval1=span;template=results;type=team;view=match',\n",
       " 'http://stats.espnscrum.com/statsguru/rugby/stats/index.html?class=1;filter=advanced;orderby=date;page=20;size=100;spanmax1=1+Apr+2020;spanmin1=1+Jan+2000;spanval1=span;template=results;type=team;view=match',\n",
       " 'http://stats.espnscrum.com/statsguru/rugby/stats/index.html?class=1;filter=advanced;orderby=date;page=21;size=100;spanmax1=1+Apr+2020;spanmin1=1+Jan+2000;spanval1=span;template=results;type=team;view=match',\n",
       " 'http://stats.espnscrum.com/statsguru/rugby/stats/index.html?class=1;filter=advanced;orderby=date;page=22;size=100;spanmax1=1+Apr+2020;spanmin1=1+Jan+2000;spanval1=span;template=results;type=team;view=match',\n",
       " 'http://stats.espnscrum.com/statsguru/rugby/stats/index.html?class=1;filter=advanced;orderby=date;page=23;size=100;spanmax1=1+Apr+2020;spanmin1=1+Jan+2000;spanval1=span;template=results;type=team;view=match',\n",
       " 'http://stats.espnscrum.com/statsguru/rugby/stats/index.html?class=1;filter=advanced;orderby=date;page=24;size=100;spanmax1=1+Apr+2020;spanmin1=1+Jan+2000;spanval1=span;template=results;type=team;view=match',\n",
       " 'http://stats.espnscrum.com/statsguru/rugby/stats/index.html?class=1;filter=advanced;orderby=date;page=25;size=100;spanmax1=1+Apr+2020;spanmin1=1+Jan+2000;spanval1=span;template=results;type=team;view=match',\n",
       " 'http://stats.espnscrum.com/statsguru/rugby/stats/index.html?class=1;filter=advanced;orderby=date;page=26;size=100;spanmax1=1+Apr+2020;spanmin1=1+Jan+2000;spanval1=span;template=results;type=team;view=match',\n",
       " 'http://stats.espnscrum.com/statsguru/rugby/stats/index.html?class=1;filter=advanced;orderby=date;page=27;size=100;spanmax1=1+Apr+2020;spanmin1=1+Jan+2000;spanval1=span;template=results;type=team;view=match',\n",
       " 'http://stats.espnscrum.com/statsguru/rugby/stats/index.html?class=1;filter=advanced;orderby=date;page=28;size=100;spanmax1=1+Apr+2020;spanmin1=1+Jan+2000;spanval1=span;template=results;type=team;view=match',\n",
       " 'http://stats.espnscrum.com/statsguru/rugby/stats/index.html?class=1;filter=advanced;orderby=date;page=29;size=100;spanmax1=1+Apr+2020;spanmin1=1+Jan+2000;spanval1=span;template=results;type=team;view=match',\n",
       " 'http://stats.espnscrum.com/statsguru/rugby/stats/index.html?class=1;filter=advanced;orderby=date;page=30;size=100;spanmax1=1+Apr+2020;spanmin1=1+Jan+2000;spanval1=span;template=results;type=team;view=match',\n",
       " 'http://stats.espnscrum.com/statsguru/rugby/stats/index.html?class=1;filter=advanced;orderby=date;page=31;size=100;spanmax1=1+Apr+2020;spanmin1=1+Jan+2000;spanval1=span;template=results;type=team;view=match',\n",
       " 'http://stats.espnscrum.com/statsguru/rugby/stats/index.html?class=1;filter=advanced;orderby=date;page=32;size=100;spanmax1=1+Apr+2020;spanmin1=1+Jan+2000;spanval1=span;template=results;type=team;view=match',\n",
       " 'http://stats.espnscrum.com/statsguru/rugby/stats/index.html?class=1;filter=advanced;orderby=date;page=33;size=100;spanmax1=1+Apr+2020;spanmin1=1+Jan+2000;spanval1=span;template=results;type=team;view=match',\n",
       " 'http://stats.espnscrum.com/statsguru/rugby/stats/index.html?class=1;filter=advanced;orderby=date;page=34;size=100;spanmax1=1+Apr+2020;spanmin1=1+Jan+2000;spanval1=span;template=results;type=team;view=match',\n",
       " 'http://stats.espnscrum.com/statsguru/rugby/stats/index.html?class=1;filter=advanced;orderby=date;page=35;size=100;spanmax1=1+Apr+2020;spanmin1=1+Jan+2000;spanval1=span;template=results;type=team;view=match',\n",
       " 'http://stats.espnscrum.com/statsguru/rugby/stats/index.html?class=1;filter=advanced;orderby=date;page=36;size=100;spanmax1=1+Apr+2020;spanmin1=1+Jan+2000;spanval1=span;template=results;type=team;view=match',\n",
       " 'http://stats.espnscrum.com/statsguru/rugby/stats/index.html?class=1;filter=advanced;orderby=date;page=37;size=100;spanmax1=1+Apr+2020;spanmin1=1+Jan+2000;spanval1=span;template=results;type=team;view=match',\n",
       " 'http://stats.espnscrum.com/statsguru/rugby/stats/index.html?class=1;filter=advanced;orderby=date;page=38;size=100;spanmax1=1+Apr+2020;spanmin1=1+Jan+2000;spanval1=span;template=results;type=team;view=match',\n",
       " 'http://stats.espnscrum.com/statsguru/rugby/stats/index.html?class=1;filter=advanced;orderby=date;page=39;size=100;spanmax1=1+Apr+2020;spanmin1=1+Jan+2000;spanval1=span;template=results;type=team;view=match',\n",
       " 'http://stats.espnscrum.com/statsguru/rugby/stats/index.html?class=1;filter=advanced;orderby=date;page=40;size=100;spanmax1=1+Apr+2020;spanmin1=1+Jan+2000;spanval1=span;template=results;type=team;view=match',\n",
       " 'http://stats.espnscrum.com/statsguru/rugby/stats/index.html?class=1;filter=advanced;orderby=date;page=41;size=100;spanmax1=1+Apr+2020;spanmin1=1+Jan+2000;spanval1=span;template=results;type=team;view=match',\n",
       " 'http://stats.espnscrum.com/statsguru/rugby/stats/index.html?class=1;filter=advanced;orderby=date;page=42;size=100;spanmax1=1+Apr+2020;spanmin1=1+Jan+2000;spanval1=span;template=results;type=team;view=match',\n",
       " 'http://stats.espnscrum.com/statsguru/rugby/stats/index.html?class=1;filter=advanced;orderby=date;page=43;size=100;spanmax1=1+Apr+2020;spanmin1=1+Jan+2000;spanval1=span;template=results;type=team;view=match',\n",
       " 'http://stats.espnscrum.com/statsguru/rugby/stats/index.html?class=1;filter=advanced;orderby=date;page=44;size=100;spanmax1=1+Apr+2020;spanmin1=1+Jan+2000;spanval1=span;template=results;type=team;view=match',\n",
       " 'http://stats.espnscrum.com/statsguru/rugby/stats/index.html?class=1;filter=advanced;orderby=date;page=45;size=100;spanmax1=1+Apr+2020;spanmin1=1+Jan+2000;spanval1=span;template=results;type=team;view=match',\n",
       " 'http://stats.espnscrum.com/statsguru/rugby/stats/index.html?class=1;filter=advanced;orderby=date;page=46;size=100;spanmax1=1+Apr+2020;spanmin1=1+Jan+2000;spanval1=span;template=results;type=team;view=match',\n",
       " 'http://stats.espnscrum.com/statsguru/rugby/stats/index.html?class=1;filter=advanced;orderby=date;page=47;size=100;spanmax1=1+Apr+2020;spanmin1=1+Jan+2000;spanval1=span;template=results;type=team;view=match',\n",
       " 'http://stats.espnscrum.com/statsguru/rugby/stats/index.html?class=1;filter=advanced;orderby=date;page=48;size=100;spanmax1=1+Apr+2020;spanmin1=1+Jan+2000;spanval1=span;template=results;type=team;view=match',\n",
       " 'http://stats.espnscrum.com/statsguru/rugby/stats/index.html?class=1;filter=advanced;orderby=date;page=49;size=100;spanmax1=1+Apr+2020;spanmin1=1+Jan+2000;spanval1=span;template=results;type=team;view=match',\n",
       " 'http://stats.espnscrum.com/statsguru/rugby/stats/index.html?class=1;filter=advanced;orderby=date;page=50;size=100;spanmax1=1+Apr+2020;spanmin1=1+Jan+2000;spanval1=span;template=results;type=team;view=match',\n",
       " 'http://stats.espnscrum.com/statsguru/rugby/stats/index.html?class=1;filter=advanced;orderby=date;page=51;size=100;spanmax1=1+Apr+2020;spanmin1=1+Jan+2000;spanval1=span;template=results;type=team;view=match',\n",
       " 'http://stats.espnscrum.com/statsguru/rugby/stats/index.html?class=1;filter=advanced;orderby=date;page=52;size=100;spanmax1=1+Apr+2020;spanmin1=1+Jan+2000;spanval1=span;template=results;type=team;view=match',\n",
       " 'http://stats.espnscrum.com/statsguru/rugby/stats/index.html?class=1;filter=advanced;orderby=date;page=53;size=100;spanmax1=1+Apr+2020;spanmin1=1+Jan+2000;spanval1=span;template=results;type=team;view=match',\n",
       " 'http://stats.espnscrum.com/statsguru/rugby/stats/index.html?class=1;filter=advanced;orderby=date;page=54;size=100;spanmax1=1+Apr+2020;spanmin1=1+Jan+2000;spanval1=span;template=results;type=team;view=match',\n",
       " 'http://stats.espnscrum.com/statsguru/rugby/stats/index.html?class=1;filter=advanced;orderby=date;page=55;size=100;spanmax1=1+Apr+2020;spanmin1=1+Jan+2000;spanval1=span;template=results;type=team;view=match',\n",
       " 'http://stats.espnscrum.com/statsguru/rugby/stats/index.html?class=1;filter=advanced;orderby=date;page=56;size=100;spanmax1=1+Apr+2020;spanmin1=1+Jan+2000;spanval1=span;template=results;type=team;view=match',\n",
       " 'http://stats.espnscrum.com/statsguru/rugby/stats/index.html?class=1;filter=advanced;orderby=date;page=57;size=100;spanmax1=1+Apr+2020;spanmin1=1+Jan+2000;spanval1=span;template=results;type=team;view=match',\n",
       " 'http://stats.espnscrum.com/statsguru/rugby/stats/index.html?class=1;filter=advanced;orderby=date;page=58;size=100;spanmax1=1+Apr+2020;spanmin1=1+Jan+2000;spanval1=span;template=results;type=team;view=match',\n",
       " 'http://stats.espnscrum.com/statsguru/rugby/stats/index.html?class=1;filter=advanced;orderby=date;page=59;size=100;spanmax1=1+Apr+2020;spanmin1=1+Jan+2000;spanval1=span;template=results;type=team;view=match',\n",
       " 'http://stats.espnscrum.com/statsguru/rugby/stats/index.html?class=1;filter=advanced;orderby=date;page=60;size=100;spanmax1=1+Apr+2020;spanmin1=1+Jan+2000;spanval1=span;template=results;type=team;view=match',\n",
       " 'http://stats.espnscrum.com/statsguru/rugby/stats/index.html?class=1;filter=advanced;orderby=date;page=61;size=100;spanmax1=1+Apr+2020;spanmin1=1+Jan+2000;spanval1=span;template=results;type=team;view=match',\n",
       " 'http://stats.espnscrum.com/statsguru/rugby/stats/index.html?class=1;filter=advanced;orderby=date;page=62;size=100;spanmax1=1+Apr+2020;spanmin1=1+Jan+2000;spanval1=span;template=results;type=team;view=match',\n",
       " 'http://stats.espnscrum.com/statsguru/rugby/stats/index.html?class=1;filter=advanced;orderby=date;page=63;size=100;spanmax1=1+Apr+2020;spanmin1=1+Jan+2000;spanval1=span;template=results;type=team;view=match',\n",
       " 'http://stats.espnscrum.com/statsguru/rugby/stats/index.html?class=1;filter=advanced;orderby=date;page=64;size=100;spanmax1=1+Apr+2020;spanmin1=1+Jan+2000;spanval1=span;template=results;type=team;view=match',\n",
       " 'http://stats.espnscrum.com/statsguru/rugby/stats/index.html?class=1;filter=advanced;orderby=date;page=65;size=100;spanmax1=1+Apr+2020;spanmin1=1+Jan+2000;spanval1=span;template=results;type=team;view=match',\n",
       " 'http://stats.espnscrum.com/statsguru/rugby/stats/index.html?class=1;filter=advanced;orderby=date;page=66;size=100;spanmax1=1+Apr+2020;spanmin1=1+Jan+2000;spanval1=span;template=results;type=team;view=match',\n",
       " 'http://stats.espnscrum.com/statsguru/rugby/stats/index.html?class=1;filter=advanced;orderby=date;page=67;size=100;spanmax1=1+Apr+2020;spanmin1=1+Jan+2000;spanval1=span;template=results;type=team;view=match',\n",
       " 'http://stats.espnscrum.com/statsguru/rugby/stats/index.html?class=1;filter=advanced;orderby=date;page=68;size=100;spanmax1=1+Apr+2020;spanmin1=1+Jan+2000;spanval1=span;template=results;type=team;view=match',\n",
       " 'http://stats.espnscrum.com/statsguru/rugby/stats/index.html?class=1;filter=advanced;orderby=date;page=69;size=100;spanmax1=1+Apr+2020;spanmin1=1+Jan+2000;spanval1=span;template=results;type=team;view=match',\n",
       " 'http://stats.espnscrum.com/statsguru/rugby/stats/index.html?class=1;filter=advanced;orderby=date;page=70;size=100;spanmax1=1+Apr+2020;spanmin1=1+Jan+2000;spanval1=span;template=results;type=team;view=match',\n",
       " 'http://stats.espnscrum.com/statsguru/rugby/stats/index.html?class=1;filter=advanced;orderby=date;page=71;size=100;spanmax1=1+Apr+2020;spanmin1=1+Jan+2000;spanval1=span;template=results;type=team;view=match',\n",
       " 'http://stats.espnscrum.com/statsguru/rugby/stats/index.html?class=1;filter=advanced;orderby=date;page=72;size=100;spanmax1=1+Apr+2020;spanmin1=1+Jan+2000;spanval1=span;template=results;type=team;view=match',\n",
       " 'http://stats.espnscrum.com/statsguru/rugby/stats/index.html?class=1;filter=advanced;orderby=date;page=73;size=100;spanmax1=1+Apr+2020;spanmin1=1+Jan+2000;spanval1=span;template=results;type=team;view=match',\n",
       " 'http://stats.espnscrum.com/statsguru/rugby/stats/index.html?class=1;filter=advanced;orderby=date;page=74;size=100;spanmax1=1+Apr+2020;spanmin1=1+Jan+2000;spanval1=span;template=results;type=team;view=match',\n",
       " 'http://stats.espnscrum.com/statsguru/rugby/stats/index.html?class=1;filter=advanced;orderby=date;page=75;size=100;spanmax1=1+Apr+2020;spanmin1=1+Jan+2000;spanval1=span;template=results;type=team;view=match',\n",
       " 'http://stats.espnscrum.com/statsguru/rugby/stats/index.html?class=1;filter=advanced;orderby=date;page=76;size=100;spanmax1=1+Apr+2020;spanmin1=1+Jan+2000;spanval1=span;template=results;type=team;view=match',\n",
       " 'http://stats.espnscrum.com/statsguru/rugby/stats/index.html?class=1;filter=advanced;orderby=date;page=77;size=100;spanmax1=1+Apr+2020;spanmin1=1+Jan+2000;spanval1=span;template=results;type=team;view=match',\n",
       " 'http://stats.espnscrum.com/statsguru/rugby/stats/index.html?class=1;filter=advanced;orderby=date;page=78;size=100;spanmax1=1+Apr+2020;spanmin1=1+Jan+2000;spanval1=span;template=results;type=team;view=match',\n",
       " 'http://stats.espnscrum.com/statsguru/rugby/stats/index.html?class=1;filter=advanced;orderby=date;page=79;size=100;spanmax1=1+Apr+2020;spanmin1=1+Jan+2000;spanval1=span;template=results;type=team;view=match',\n",
       " 'http://stats.espnscrum.com/statsguru/rugby/stats/index.html?class=1;filter=advanced;orderby=date;page=80;size=100;spanmax1=1+Apr+2020;spanmin1=1+Jan+2000;spanval1=span;template=results;type=team;view=match',\n",
       " 'http://stats.espnscrum.com/statsguru/rugby/stats/index.html?class=1;filter=advanced;orderby=date;page=81;size=100;spanmax1=1+Apr+2020;spanmin1=1+Jan+2000;spanval1=span;template=results;type=team;view=match',\n",
       " 'http://stats.espnscrum.com/statsguru/rugby/stats/index.html?class=1;filter=advanced;orderby=date;page=82;size=100;spanmax1=1+Apr+2020;spanmin1=1+Jan+2000;spanval1=span;template=results;type=team;view=match',\n",
       " 'http://stats.espnscrum.com/statsguru/rugby/stats/index.html?class=1;filter=advanced;orderby=date;page=83;size=100;spanmax1=1+Apr+2020;spanmin1=1+Jan+2000;spanval1=span;template=results;type=team;view=match',\n",
       " 'http://stats.espnscrum.com/statsguru/rugby/stats/index.html?class=1;filter=advanced;orderby=date;page=84;size=100;spanmax1=1+Apr+2020;spanmin1=1+Jan+2000;spanval1=span;template=results;type=team;view=match',\n",
       " 'http://stats.espnscrum.com/statsguru/rugby/stats/index.html?class=1;filter=advanced;orderby=date;page=85;size=100;spanmax1=1+Apr+2020;spanmin1=1+Jan+2000;spanval1=span;template=results;type=team;view=match',\n",
       " 'http://stats.espnscrum.com/statsguru/rugby/stats/index.html?class=1;filter=advanced;orderby=date;page=86;size=100;spanmax1=1+Apr+2020;spanmin1=1+Jan+2000;spanval1=span;template=results;type=team;view=match',\n",
       " 'http://stats.espnscrum.com/statsguru/rugby/stats/index.html?class=1;filter=advanced;orderby=date;page=87;size=100;spanmax1=1+Apr+2020;spanmin1=1+Jan+2000;spanval1=span;template=results;type=team;view=match',\n",
       " 'http://stats.espnscrum.com/statsguru/rugby/stats/index.html?class=1;filter=advanced;orderby=date;page=88;size=100;spanmax1=1+Apr+2020;spanmin1=1+Jan+2000;spanval1=span;template=results;type=team;view=match',\n",
       " 'http://stats.espnscrum.com/statsguru/rugby/stats/index.html?class=1;filter=advanced;orderby=date;page=89;size=100;spanmax1=1+Apr+2020;spanmin1=1+Jan+2000;spanval1=span;template=results;type=team;view=match',\n",
       " 'http://stats.espnscrum.com/statsguru/rugby/stats/index.html?class=1;filter=advanced;orderby=date;page=90;size=100;spanmax1=1+Apr+2020;spanmin1=1+Jan+2000;spanval1=span;template=results;type=team;view=match',\n",
       " 'http://stats.espnscrum.com/statsguru/rugby/stats/index.html?class=1;filter=advanced;orderby=date;page=91;size=100;spanmax1=1+Apr+2020;spanmin1=1+Jan+2000;spanval1=span;template=results;type=team;view=match',\n",
       " 'http://stats.espnscrum.com/statsguru/rugby/stats/index.html?class=1;filter=advanced;orderby=date;page=92;size=100;spanmax1=1+Apr+2020;spanmin1=1+Jan+2000;spanval1=span;template=results;type=team;view=match',\n",
       " 'http://stats.espnscrum.com/statsguru/rugby/stats/index.html?class=1;filter=advanced;orderby=date;page=93;size=100;spanmax1=1+Apr+2020;spanmin1=1+Jan+2000;spanval1=span;template=results;type=team;view=match',\n",
       " 'http://stats.espnscrum.com/statsguru/rugby/stats/index.html?class=1;filter=advanced;orderby=date;page=94;size=100;spanmax1=1+Apr+2020;spanmin1=1+Jan+2000;spanval1=span;template=results;type=team;view=match',\n",
       " 'http://stats.espnscrum.com/statsguru/rugby/stats/index.html?class=1;filter=advanced;orderby=date;page=95;size=100;spanmax1=1+Apr+2020;spanmin1=1+Jan+2000;spanval1=span;template=results;type=team;view=match',\n",
       " 'http://stats.espnscrum.com/statsguru/rugby/stats/index.html?class=1;filter=advanced;orderby=date;page=96;size=100;spanmax1=1+Apr+2020;spanmin1=1+Jan+2000;spanval1=span;template=results;type=team;view=match',\n",
       " 'http://stats.espnscrum.com/statsguru/rugby/stats/index.html?class=1;filter=advanced;orderby=date;page=97;size=100;spanmax1=1+Apr+2020;spanmin1=1+Jan+2000;spanval1=span;template=results;type=team;view=match',\n",
       " 'http://stats.espnscrum.com/statsguru/rugby/stats/index.html?class=1;filter=advanced;orderby=date;page=98;size=100;spanmax1=1+Apr+2020;spanmin1=1+Jan+2000;spanval1=span;template=results;type=team;view=match',\n",
       " 'http://stats.espnscrum.com/statsguru/rugby/stats/index.html?class=1;filter=advanced;orderby=date;page=99;size=100;spanmax1=1+Apr+2020;spanmin1=1+Jan+2000;spanval1=span;template=results;type=team;view=match',\n",
       " 'http://stats.espnscrum.com/statsguru/rugby/stats/index.html?class=1;filter=advanced;orderby=date;page=100;size=100;spanmax1=1+Apr+2020;spanmin1=1+Jan+2000;spanval1=span;template=results;type=team;view=match',\n",
       " 'http://stats.espnscrum.com/statsguru/rugby/stats/index.html?class=1;filter=advanced;orderby=date;page=101;size=100;spanmax1=1+Apr+2020;spanmin1=1+Jan+2000;spanval1=span;template=results;type=team;view=match',\n",
       " 'http://stats.espnscrum.com/statsguru/rugby/stats/index.html?class=1;filter=advanced;orderby=date;page=102;size=100;spanmax1=1+Apr+2020;spanmin1=1+Jan+2000;spanval1=span;template=results;type=team;view=match']"
      ]
     },
     "execution_count": 8,
     "metadata": {},
     "output_type": "execute_result"
    }
   ],
   "source": [
    "urls_list = []\n",
    "for page in range(1,103):\n",
    "    urls_list.append(getESPNScrumUrl(page))\n",
    "urls_list"
   ]
  },
  {
   "cell_type": "code",
   "execution_count": 13,
   "metadata": {},
   "outputs": [
    {
     "name": "stdout",
     "output_type": "stream",
     "text": [
      "requests.get() status:  200\n"
     ]
    }
   ],
   "source": [
    "url = urls_list[0]\n",
    "\n",
    "response = requests.get(url)\n",
    "print('requests.get() status: ',response.status_code)\n",
    "page = response.text\n",
    "del response"
   ]
  },
  {
   "cell_type": "code",
   "execution_count": null,
   "metadata": {},
   "outputs": [],
   "source": []
  }
 ],
 "metadata": {
  "kernelspec": {
   "display_name": "Python [conda env:metis] *",
   "language": "python",
   "name": "conda-env-metis-py"
  },
  "language_info": {
   "codemirror_mode": {
    "name": "ipython",
    "version": 3
   },
   "file_extension": ".py",
   "mimetype": "text/x-python",
   "name": "python",
   "nbconvert_exporter": "python",
   "pygments_lexer": "ipython3",
   "version": "3.7.4"
  }
 },
 "nbformat": 4,
 "nbformat_minor": 4
}
