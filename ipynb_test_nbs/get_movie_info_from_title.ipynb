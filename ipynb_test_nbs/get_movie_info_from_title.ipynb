{
 "cells": [
  {
   "cell_type": "markdown",
   "metadata": {},
   "source": [
    "# Get movie info from title URLs on boxofficemojo.com"
   ]
  },
  {
   "cell_type": "code",
   "execution_count": 100,
   "metadata": {},
   "outputs": [],
   "source": [
    "from bs4 import BeautifulSoup\n",
    "import requests\n",
    "import re\n",
    "import dateutil.parser"
   ]
  },
  {
   "cell_type": "code",
   "execution_count": 101,
   "metadata": {},
   "outputs": [],
   "source": [
    "def get_movie_info_from_title(url):\n",
    "    '''\n",
    "    Parse the following data from a boxofficemojo.com Title url: \n",
    "    ['Movie_Title','Domestic_Distributor','Domestic_Total_Gross',\n",
    "    'Runtime','Rating','Release_Date','Budget', 'Cast1','Cast2','Cast3','Cast4']\n",
    "    \n",
    "    Input: boxofficemojo.com url like:\n",
    "    'https://www.boxofficemojo.com/title/tt0848228/credits/?ref_=bo_tt_tab'\n",
    "    Needs to have 'credits/?ref_=bo_tt_tab' in url after title id\n",
    "    \n",
    "    Returns [{}]\n",
    "    \n",
    "    '''\n",
    "    \n",
    "    headers = ['Movie_Title','Domestic_Distributor','Domestic_Total_Gross',\n",
    "           'Runtime','Rating','Release_Date','Budget', 'Cast1','Cast2','Cast3','Cast4']\n",
    "    movie_data = []\n",
    "    \n",
    "    response = requests.get(url)\n",
    "    print('requests.get status: ',response.status_code)\n",
    "    page = response.text\n",
    "    soup = BeautifulSoup(page, \"lxml\")\n",
    "    del page, response\n",
    "    \n",
    "    # title\n",
    "    title = soup.find('title').text.split('-')[0].strip()\n",
    "    \n",
    "    # domestic distributor\n",
    "    distributor = get_movie_value(soup,'Domestic Distributor').split('See')[0]\n",
    "    \n",
    "    # domestic total gross\n",
    "    raw_domestic_total_gross = (soup.find(class_='mojo-performance-summary-table')\n",
    "                                .find_all('span', class_='money')[0].text)\n",
    "    domestic_total_gross = money_to_int(raw_domestic_total_gross)\n",
    "    \n",
    "    # runtime\n",
    "    raw_runtime = get_movie_value(soup,'Running')\n",
    "    runtime = runtime_to_minutes(raw_runtime)\n",
    "    \n",
    "    # rating\n",
    "    rating = get_movie_value(soup,'MPAA')\n",
    "    \n",
    "    # release date\n",
    "    raw_release_date = get_movie_value(soup,'Release Date').split('\\n')[0]\n",
    "    release_date = to_date(raw_release_date)\n",
    "\n",
    "    # Budget\n",
    "    raw_budget = get_movie_value(soup,'Budget')\n",
    "    budget = money_to_int(raw_budget)\n",
    "    \n",
    "    # Get Cast info\n",
    "    castInfo = soup.find(id=\"principalCast\").find_all('tr')\n",
    "    cast1 = castInfo[1].text.split('\\n')[0]\n",
    "    cast2 = castInfo[2].text.split('\\n')[0]\n",
    "    cast3 = castInfo[3].text.split('\\n')[0]\n",
    "    cast4 = castInfo[4].text.split('\\n')[0]\n",
    "    \n",
    "\n",
    "    movie_dict = dict(zip(headers, [title,\n",
    "                                    distributor,\n",
    "                                    domestic_total_gross,\n",
    "                                    runtime,\n",
    "                                    rating, \n",
    "                                    release_date,\n",
    "                                    budget,\n",
    "                                    cast1,\n",
    "                                    cast2,\n",
    "                                    cast3,\n",
    "                                    cast4]))\n",
    "\n",
    "    movie_data.append(movie_dict)\n",
    "    return movie_data"
   ]
  },
  {
   "cell_type": "code",
   "execution_count": 102,
   "metadata": {},
   "outputs": [],
   "source": [
    "def get_movie_value(soup, field_name):\n",
    "    \n",
    "    '''Grab a value from Box Office Mojo HTML\n",
    "    \n",
    "    Takes a string attribute of a movie on the page and returns the string in\n",
    "    the next sibling object (the value for that attribute) or None if nothing is found.\n",
    "    '''\n",
    "    \n",
    "    obj = soup.find(text=re.compile(field_name))\n",
    "    \n",
    "    if not obj: \n",
    "        return None\n",
    "    \n",
    "    # this works for most of the values\n",
    "    next_element = obj.findNext()\n",
    "    \n",
    "    if next_element:\n",
    "        return next_element.text \n",
    "    else:\n",
    "        return None\n",
    "\n",
    "def money_to_int(moneystring):\n",
    "    moneystring = moneystring.replace('$', '').replace(',', '')\n",
    "    return int(moneystring)\n",
    "\n",
    "def runtime_to_minutes(runtimestring):\n",
    "    \n",
    "    runtime = runtimestring.split()\n",
    "    try:\n",
    "        minutes = int(runtime[0])*60 + int(runtime[2])\n",
    "        return minutes\n",
    "    except:\n",
    "        return None\n",
    "\n",
    "def to_date(datestring):\n",
    "    date = dateutil.parser.parse(datestring)\n",
    "    return date"
   ]
  },
  {
   "cell_type": "markdown",
   "metadata": {},
   "source": [
    "# Test it"
   ]
  },
  {
   "cell_type": "code",
   "execution_count": 110,
   "metadata": {},
   "outputs": [
    {
     "name": "stdout",
     "output_type": "stream",
     "text": [
      "requests.get status:  200\n"
     ]
    },
    {
     "data": {
      "text/plain": [
       "[{'Movie_Title': 'Sonic the Hedgehog',\n",
       "  'Domestic_Distributor': 'Paramount Pictures',\n",
       "  'Domestic_Total_Gross': 146066470,\n",
       "  'Runtime': 99,\n",
       "  'Rating': 'PG',\n",
       "  'Release_Date': datetime.datetime(2020, 2, 12, 0, 0),\n",
       "  'Budget': 85000000,\n",
       "  'Cast1': 'Ben Schwartz',\n",
       "  'Cast2': 'James Marsden',\n",
       "  'Cast3': 'Jim Carrey',\n",
       "  'Cast4': 'Tika Sumpter'}]"
      ]
     },
     "execution_count": 110,
     "metadata": {},
     "output_type": "execute_result"
    }
   ],
   "source": [
    "url = 'https://www.boxofficemojo.com/title/tt3794354/credits/?ref_=bo_tt_tab'\n",
    "data = get_movie_info_from_title(url)\n",
    "data"
   ]
  },
  {
   "cell_type": "code",
   "execution_count": 106,
   "metadata": {},
   "outputs": [],
   "source": [
    "import pandas as pd"
   ]
  },
  {
   "cell_type": "code",
   "execution_count": 107,
   "metadata": {},
   "outputs": [
    {
     "data": {
      "text/html": [
       "<div>\n",
       "<style scoped>\n",
       "    .dataframe tbody tr th:only-of-type {\n",
       "        vertical-align: middle;\n",
       "    }\n",
       "\n",
       "    .dataframe tbody tr th {\n",
       "        vertical-align: top;\n",
       "    }\n",
       "\n",
       "    .dataframe thead th {\n",
       "        text-align: right;\n",
       "    }\n",
       "</style>\n",
       "<table border=\"1\" class=\"dataframe\">\n",
       "  <thead>\n",
       "    <tr style=\"text-align: right;\">\n",
       "      <th></th>\n",
       "      <th>Movie_Title</th>\n",
       "      <th>Domestic_Distributor</th>\n",
       "      <th>Domestic_Total_Gross</th>\n",
       "      <th>Runtime</th>\n",
       "      <th>Rating</th>\n",
       "      <th>Release_Date</th>\n",
       "      <th>Budget</th>\n",
       "      <th>Cast1</th>\n",
       "      <th>Cast2</th>\n",
       "      <th>Cast3</th>\n",
       "      <th>Cast4</th>\n",
       "    </tr>\n",
       "  </thead>\n",
       "  <tbody>\n",
       "    <tr>\n",
       "      <th>0</th>\n",
       "      <td>The Avengers</td>\n",
       "      <td>Walt Disney Studios Motion Pictures</td>\n",
       "      <td>623357910</td>\n",
       "      <td>143</td>\n",
       "      <td>PG-13</td>\n",
       "      <td>2012-04-25</td>\n",
       "      <td>220000000</td>\n",
       "      <td>Robert Downey Jr.</td>\n",
       "      <td>Chris Evans</td>\n",
       "      <td>Scarlett Johansson</td>\n",
       "      <td>Jeremy Renner</td>\n",
       "    </tr>\n",
       "  </tbody>\n",
       "</table>\n",
       "</div>"
      ],
      "text/plain": [
       "    Movie_Title                 Domestic_Distributor  Domestic_Total_Gross  \\\n",
       "0  The Avengers  Walt Disney Studios Motion Pictures             623357910   \n",
       "\n",
       "   Runtime Rating Release_Date     Budget              Cast1        Cast2  \\\n",
       "0      143  PG-13   2012-04-25  220000000  Robert Downey Jr.  Chris Evans   \n",
       "\n",
       "                Cast3          Cast4  \n",
       "0  Scarlett Johansson  Jeremy Renner  "
      ]
     },
     "execution_count": 107,
     "metadata": {},
     "output_type": "execute_result"
    }
   ],
   "source": [
    "df = pd.DataFrame(data)\n",
    "df"
   ]
  },
  {
   "cell_type": "code",
   "execution_count": 112,
   "metadata": {},
   "outputs": [
    {
     "data": {
      "text/html": [
       "<div>\n",
       "<style scoped>\n",
       "    .dataframe tbody tr th:only-of-type {\n",
       "        vertical-align: middle;\n",
       "    }\n",
       "\n",
       "    .dataframe tbody tr th {\n",
       "        vertical-align: top;\n",
       "    }\n",
       "\n",
       "    .dataframe thead th {\n",
       "        text-align: right;\n",
       "    }\n",
       "</style>\n",
       "<table border=\"1\" class=\"dataframe\">\n",
       "  <thead>\n",
       "    <tr style=\"text-align: right;\">\n",
       "      <th></th>\n",
       "      <th>Movie_Title</th>\n",
       "      <th>Domestic_Distributor</th>\n",
       "      <th>Domestic_Total_Gross</th>\n",
       "      <th>Runtime</th>\n",
       "      <th>Rating</th>\n",
       "      <th>Release_Date</th>\n",
       "      <th>Budget</th>\n",
       "      <th>Cast1</th>\n",
       "      <th>Cast2</th>\n",
       "      <th>Cast3</th>\n",
       "      <th>Cast4</th>\n",
       "    </tr>\n",
       "  </thead>\n",
       "  <tbody>\n",
       "    <tr>\n",
       "      <th>0</th>\n",
       "      <td>The Avengers</td>\n",
       "      <td>Walt Disney Studios Motion Pictures</td>\n",
       "      <td>623357910</td>\n",
       "      <td>143</td>\n",
       "      <td>PG-13</td>\n",
       "      <td>2012-04-25</td>\n",
       "      <td>220000000</td>\n",
       "      <td>Robert Downey Jr.</td>\n",
       "      <td>Chris Evans</td>\n",
       "      <td>Scarlett Johansson</td>\n",
       "      <td>Jeremy Renner</td>\n",
       "    </tr>\n",
       "    <tr>\n",
       "      <th>0</th>\n",
       "      <td>Sonic the Hedgehog</td>\n",
       "      <td>Paramount Pictures</td>\n",
       "      <td>146066470</td>\n",
       "      <td>99</td>\n",
       "      <td>PG</td>\n",
       "      <td>2020-02-12</td>\n",
       "      <td>85000000</td>\n",
       "      <td>Ben Schwartz</td>\n",
       "      <td>James Marsden</td>\n",
       "      <td>Jim Carrey</td>\n",
       "      <td>Tika Sumpter</td>\n",
       "    </tr>\n",
       "  </tbody>\n",
       "</table>\n",
       "</div>"
      ],
      "text/plain": [
       "          Movie_Title                 Domestic_Distributor  \\\n",
       "0        The Avengers  Walt Disney Studios Motion Pictures   \n",
       "0  Sonic the Hedgehog                   Paramount Pictures   \n",
       "\n",
       "   Domestic_Total_Gross  Runtime Rating Release_Date     Budget  \\\n",
       "0             623357910      143  PG-13   2012-04-25  220000000   \n",
       "0             146066470       99     PG   2020-02-12   85000000   \n",
       "\n",
       "               Cast1          Cast2               Cast3          Cast4  \n",
       "0  Robert Downey Jr.    Chris Evans  Scarlett Johansson  Jeremy Renner  \n",
       "0       Ben Schwartz  James Marsden          Jim Carrey   Tika Sumpter  "
      ]
     },
     "execution_count": 112,
     "metadata": {},
     "output_type": "execute_result"
    }
   ],
   "source": [
    "df = df.append(data)\n",
    "df\n"
   ]
  },
  {
   "cell_type": "code",
   "execution_count": null,
   "metadata": {},
   "outputs": [],
   "source": []
  }
 ],
 "metadata": {
  "kernelspec": {
   "display_name": "Python [conda env:metis] *",
   "language": "python",
   "name": "conda-env-metis-py"
  },
  "language_info": {
   "codemirror_mode": {
    "name": "ipython",
    "version": 3
   },
   "file_extension": ".py",
   "mimetype": "text/x-python",
   "name": "python",
   "nbconvert_exporter": "python",
   "pygments_lexer": "ipython3",
   "version": "3.7.4"
  }
 },
 "nbformat": 4,
 "nbformat_minor": 4
}
