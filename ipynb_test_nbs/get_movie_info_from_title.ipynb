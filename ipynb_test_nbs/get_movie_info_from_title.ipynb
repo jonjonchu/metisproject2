{
 "cells": [
  {
   "cell_type": "markdown",
   "metadata": {},
   "source": [
    "# Get movie info from title URLs on boxofficemojo.com"
   ]
  },
  {
   "cell_type": "code",
   "execution_count": 1,
   "metadata": {},
   "outputs": [],
   "source": [
    "from bs4 import BeautifulSoup\n",
    "import requests\n",
    "import re\n",
    "import dateutil.parser"
   ]
  },
  {
   "cell_type": "code",
   "execution_count": 2,
   "metadata": {},
   "outputs": [],
   "source": [
    "def get_movie_info_from_title(url):\n",
    "    '''\n",
    "    Parse the following data from a boxofficemojo.com Title url: \n",
    "    ['Movie_Title','Domestic_Distributor','Domestic_Total_Gross',\n",
    "    'Runtime','Rating','Release_Date','Budget', 'Cast1','Cast2','Cast3','Cast4']\n",
    "    \n",
    "    Input: boxofficemojo.com url like:\n",
    "    'https://www.boxofficemojo.com/title/tt0848228/credits/?ref_=bo_tt_tab'\n",
    "    Needs to have 'credits/?ref_=bo_tt_tab' in url after title id\n",
    "    \n",
    "    Returns [{}]\n",
    "    \n",
    "    '''\n",
    "    \n",
    "    headers = ['Movie_Title','Domestic_Distributor','Domestic_Total_Gross',\n",
    "           'Runtime','Rating','Release_Date','Budget', 'Cast1','Cast2','Cast3','Cast4']\n",
    "    movie_data = []\n",
    "    \n",
    "    response = requests.get(url)\n",
    "    print('requests.get status: ',response.status_code)\n",
    "    page = response.text\n",
    "    soup = BeautifulSoup(page, \"lxml\")\n",
    "    del page, response\n",
    "    \n",
    "    # title\n",
    "    title = soup.find('title').text.split('-')[0].strip()\n",
    "    \n",
    "    # domestic distributor\n",
    "    distributor = get_movie_value(soup,'Domestic Distributor').split('See')[0]\n",
    "    \n",
    "    # domestic total gross\n",
    "    raw_domestic_total_gross = (soup.find(class_='mojo-performance-summary-table')\n",
    "                                .find_all('span', class_='money')[0].text)\n",
    "    domestic_total_gross = money_to_int(raw_domestic_total_gross)\n",
    "    \n",
    "    # runtime\n",
    "    raw_runtime = get_movie_value(soup,'Running')\n",
    "    runtime = runtime_to_minutes(raw_runtime)\n",
    "    \n",
    "    # rating\n",
    "    rating = get_movie_value(soup,'MPAA')\n",
    "    \n",
    "    # release date\n",
    "    raw_release_date = get_movie_value(soup,'Release Date').split('\\n')[0]\n",
    "    release_date = to_date(raw_release_date)\n",
    "\n",
    "    # Budget\n",
    "    raw_budget = get_movie_value(soup,'Budget')\n",
    "    budget = money_to_int(raw_budget)\n",
    "    \n",
    "    # Get Cast info\n",
    "    castInfo = soup.find(id=\"principalCast\").find_all('tr')\n",
    "    cast1 = castInfo[1].text.split('\\n')[0]\n",
    "    cast2 = castInfo[2].text.split('\\n')[0]\n",
    "    cast3 = castInfo[3].text.split('\\n')[0]\n",
    "    cast4 = castInfo[4].text.split('\\n')[0]\n",
    "    \n",
    "\n",
    "    movie_dict = dict(zip(headers, [title,\n",
    "                                    distributor,\n",
    "                                    domestic_total_gross,\n",
    "                                    runtime,\n",
    "                                    rating, \n",
    "                                    release_date,\n",
    "                                    budget,\n",
    "                                    cast1,\n",
    "                                    cast2,\n",
    "                                    cast3,\n",
    "                                    cast4]))\n",
    "\n",
    "    movie_data.append(movie_dict)\n",
    "    return movie_data"
   ]
  },
  {
   "cell_type": "code",
   "execution_count": null,
   "metadata": {},
   "outputs": [],
   "source": [
    "def get_movie_value(soup, field_name):\n",
    "    \n",
    "    '''Grab a value from Box Office Mojo HTML\n",
    "    \n",
    "    Takes a string attribute of a movie on the page and returns the string in\n",
    "    the next sibling object (the value for that attribute) or None if nothing is found.\n",
    "    '''\n",
    "    \n",
    "    obj = soup.find(text=re.compile(field_name))\n",
    "    \n",
    "    if not obj: \n",
    "        return None\n",
    "    \n",
    "    # this works for most of the values\n",
    "    next_element = obj.findNext()\n",
    "    \n",
    "    if next_element:\n",
    "        return next_element.text \n",
    "    else:\n",
    "        return None\n",
    "\n",
    "def money_to_int(moneystring):\n",
    "    moneystring = moneystring.replace('$', '').replace(',', '')\n",
    "    return int(moneystring)\n",
    "\n",
    "def runtime_to_minutes(runtimestring):\n",
    "    \n",
    "    runtime = runtimestring.split()\n",
    "    try:\n",
    "        minutes = int(runtime[0])*60 + int(runtime[2])\n",
    "        return minutes\n",
    "    except:\n",
    "        return None\n",
    "\n",
    "def to_date(datestring):\n",
    "    date = dateutil.parser.parse(datestring)\n",
    "    return date"
   ]
  },
  {
   "cell_type": "markdown",
   "metadata": {},
   "source": [
    "# Test it"
   ]
  },
  {
   "cell_type": "code",
   "execution_count": null,
   "metadata": {},
   "outputs": [],
   "source": [
    "url = 'https://www.boxofficemojo.com/title/tt3794354/credits/?ref_=bo_tt_tab'\n",
    "data = get_movie_info_from_title(url)\n",
    "data"
   ]
  },
  {
   "cell_type": "code",
   "execution_count": null,
   "metadata": {},
   "outputs": [],
   "source": [
    "import pandas as pd"
   ]
  },
  {
   "cell_type": "code",
   "execution_count": null,
   "metadata": {},
   "outputs": [],
   "source": [
    "df = pd.DataFrame(data)\n",
    "df"
   ]
  },
  {
   "cell_type": "code",
   "execution_count": null,
   "metadata": {},
   "outputs": [],
   "source": [
    "df = df.append(data)\n",
    "df\n"
   ]
  },
  {
   "cell_type": "markdown",
   "metadata": {},
   "source": [
    "# Test cast parser"
   ]
  },
  {
   "cell_type": "code",
   "execution_count": null,
   "metadata": {},
   "outputs": [],
   "source": [
    "castInfo = soup.find(id=\"principalCast\").find_all('tr')"
   ]
  }
 ],
 "metadata": {
  "kernelspec": {
   "display_name": "Python [conda env:metis] *",
   "language": "python",
   "name": "conda-env-metis-py"
  },
  "language_info": {
   "codemirror_mode": {
    "name": "ipython",
    "version": 3
   },
   "file_extension": ".py",
   "mimetype": "text/x-python",
   "name": "python",
   "nbconvert_exporter": "python",
   "pygments_lexer": "ipython3",
   "version": "3.7.4"
  },
  "toc": {
   "base_numbering": 1,
   "nav_menu": {},
   "number_sections": true,
   "sideBar": true,
   "skip_h1_title": false,
   "title_cell": "Table of Contents",
   "title_sidebar": "Contents",
   "toc_cell": false,
   "toc_position": {},
   "toc_section_display": true,
   "toc_window_display": false
  }
 },
 "nbformat": 4,
 "nbformat_minor": 4
}
