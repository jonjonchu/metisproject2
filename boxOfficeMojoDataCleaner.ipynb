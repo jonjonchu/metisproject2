{
 "cells": [
  {
   "cell_type": "markdown",
   "metadata": {},
   "source": [
    "# BoxOfficeMojo Data Cleaner"
   ]
  },
  {
   "cell_type": "code",
   "execution_count": 1,
   "metadata": {},
   "outputs": [
    {
     "name": "stdout",
     "output_type": "stream",
     "text": [
      "Populating the interactive namespace from numpy and matplotlib\n"
     ]
    }
   ],
   "source": [
    "%pylab inline\n",
    "#% config InlineBackend.figure_format = 'svg'\n",
    "\n",
    "import pandas as pd\n",
    "import numpy as np"
   ]
  },
  {
   "cell_type": "markdown",
   "metadata": {},
   "source": [
    "## Load the dataframe from its pickle file and perform basic datatype transformations/cleaning"
   ]
  },
  {
   "cell_type": "markdown",
   "metadata": {},
   "source": [
    "### Define which years to clean"
   ]
  },
  {
   "cell_type": "code",
   "execution_count": null,
   "metadata": {},
   "outputs": [],
   "source": [
    "years = [2020]\n",
    "#years = range(2019,1990,-1)"
   ]
  },
  {
   "cell_type": "markdown",
   "metadata": {},
   "source": [
    "### Run loop to clean for every year"
   ]
  },
  {
   "cell_type": "code",
   "execution_count": 5,
   "metadata": {
    "scrolled": true
   },
   "outputs": [],
   "source": [
    "for year in years:\n",
    "    filepath = ('./data/mojo_'+str(year)+'_movies.pkl')\n",
    "    df = pd.read_pickle(filepath)\n",
    "\n",
    "    # Cleaning\n",
    "    df = df.drop(columns='index')\n",
    "    df.fillna(value=np.nan, inplace=True)\n",
    "    # save to pickle\n",
    "    df.to_pickle(path=('./data/mojo_'+str(year)+'_movies_cleaned.pkl'))"
   ]
  },
  {
   "cell_type": "markdown",
   "metadata": {},
   "source": [
    "### Check the last dataframe"
   ]
  },
  {
   "cell_type": "code",
   "execution_count": null,
   "metadata": {},
   "outputs": [],
   "source": [
    "df.head()"
   ]
  },
  {
   "cell_type": "code",
   "execution_count": 3,
   "metadata": {},
   "outputs": [
    {
     "name": "stdout",
     "output_type": "stream",
     "text": [
      "<class 'pandas.core.frame.DataFrame'>\n",
      "RangeIndex: 242 entries, 0 to 241\n",
      "Data columns (total 15 columns):\n",
      " #   Column                Non-Null Count  Dtype         \n",
      "---  ------                --------------  -----         \n",
      " 0   Movie_Title           242 non-null    object        \n",
      " 1   Domestic_Distributor  237 non-null    object        \n",
      " 2   Domestic_Total_Gross  242 non-null    int64         \n",
      " 3   Runtime               228 non-null    float64       \n",
      " 4   Rating                119 non-null    object        \n",
      " 5   Release_Date          242 non-null    datetime64[ns]\n",
      " 6   Budget                49 non-null     float64       \n",
      " 7   Cast1                 235 non-null    object        \n",
      " 8   Cast2                 232 non-null    object        \n",
      " 9   Cast3                 228 non-null    object        \n",
      " 10  Cast4                 224 non-null    object        \n",
      " 11  Director              235 non-null    object        \n",
      " 12  Writer                223 non-null    object        \n",
      " 13  Producer              223 non-null    object        \n",
      " 14  Cinematographer       213 non-null    object        \n",
      "dtypes: datetime64[ns](1), float64(2), int64(1), object(11)\n",
      "memory usage: 28.5+ KB\n"
     ]
    }
   ],
   "source": [
    "df.info()"
   ]
  },
  {
   "cell_type": "code",
   "execution_count": 4,
   "metadata": {},
   "outputs": [],
   "source": []
  }
 ],
 "metadata": {
  "kernelspec": {
   "display_name": "Python [conda env:metis] *",
   "language": "python",
   "name": "conda-env-metis-py"
  },
  "language_info": {
   "codemirror_mode": {
    "name": "ipython",
    "version": 3
   },
   "file_extension": ".py",
   "mimetype": "text/x-python",
   "name": "python",
   "nbconvert_exporter": "python",
   "pygments_lexer": "ipython3",
   "version": "3.7.4"
  },
  "toc": {
   "base_numbering": 1,
   "nav_menu": {},
   "number_sections": true,
   "sideBar": true,
   "skip_h1_title": false,
   "title_cell": "Table of Contents",
   "title_sidebar": "Contents",
   "toc_cell": false,
   "toc_position": {},
   "toc_section_display": true,
   "toc_window_display": false
  }
 },
 "nbformat": 4,
 "nbformat_minor": 4
}
